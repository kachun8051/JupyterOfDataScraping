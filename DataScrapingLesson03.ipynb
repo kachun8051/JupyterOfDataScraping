{
 "cells": [
  {
   "cell_type": "code",
   "execution_count": 2,
   "id": "4385ebfe",
   "metadata": {},
   "outputs": [
    {
     "name": "stdout",
     "output_type": "stream",
     "text": [
      "{\"generalSituation\":\"高空反氣旋會在未來一兩日為華南帶來大致晴朗的天氣，但高溫觸發的驟雨及雷暴會影響該區。同時，熱帶氣旋小犬會移向呂宋海峽至台灣南部一帶並逐漸增強，隨後可能進入南海東北部，本週後期廣東沿岸有驟雨及風勢較大。此外，預料一股東北季候風亦會在本週後期抵達華南。受東北季候風影響，隨後小犬的路徑及強度存在變數，有可能沿廣東沿岸海域移動並減弱。\",\"weatherForecast\":[{\"forecastDate\":\"20231003\",\"week\":\"星期二\",\"forecastWind\":\"東風2至3級。\",\"forecastWeather\":\"大致天晴，日間酷熱。稍後有幾陣驟雨。\",\"forecastMaxtemp\":{\"value\":33,\"unit\":\"C\"},\"forecastMintemp\":{\"value\":28,\"unit\":\"C\"},\"forecastMaxrh\":{\"value\":85,\"unit\":\"percent\"},\"forecastMinrh\":{\"value\":60,\"unit\":\"percent\"},\"ForecastIcon\":53,\"PSR\":\"中低\"},{\"forecastDate\":\"20231004\",\"week\":\"星期三\",\"forecastWind\":\"微風2級，稍後北至西北風3至4級。\",\"forecastWeather\":\"部分時間有陽光，但局部地區有驟雨。日間極端酷熱。\",\"forecastMaxtemp\":{\"value\":35,\"unit\":\"C\"},\"forecastMintemp\":{\"value\":28,\"unit\":\"C\"},\"forecastMaxrh\":{\"value\":85,\"unit\":\"percent\"},\"forecastMinrh\":{\"value\":55,\"unit\":\"percent\"},\"ForecastIcon\":90,\"PSR\":\"低\"},{\"forecastDate\":\"20231005\",\"week\":\"星期四\",\"forecastWind\":\"北風4至5級。\",\"forecastWeather\":\"大致天晴，但局部地區有驟雨。日間酷熱及乾燥。\",\"forecastMaxtemp\":{\"value\":34,\"unit\":\"C\"},\"forecastMintemp\":{\"value\":28,\"unit\":\"C\"},\"forecastMaxrh\":{\"value\":75,\"unit\":\"percent\"},\"forecastMinrh\":{\"value\":50,\"unit\":\"percent\"},\"ForecastIcon\":51,\"PSR\":\"低\"},{\"forecastDate\":\"20231006\",\"week\":\"星期五\",\"forecastWind\":\"北風5級，離岸6級。\",\"forecastWeather\":\"大致多雲，有幾陣驟雨。\",\"forecastMaxtemp\":{\"value\":32,\"unit\":\"C\"},\"forecastMintemp\":{\"value\":27,\"unit\":\"C\"},\"forecastMaxrh\":{\"value\":85,\"unit\":\"percent\"},\"forecastMinrh\":{\"value\":65,\"unit\":\"percent\"},\"ForecastIcon\":62,\"PSR\":\"中\"},{\"forecastDate\":\"20231007\",\"week\":\"星期六\",\"forecastWind\":\"北風5級，離岸及高地達7級。\",\"forecastWeather\":\"多雲，有驟雨。\",\"forecastMaxtemp\":{\"value\":29,\"unit\":\"C\"},\"forecastMintemp\":{\"value\":25,\"unit\":\"C\"},\"forecastMaxrh\":{\"value\":95,\"unit\":\"percent\"},\"forecastMinrh\":{\"value\":80,\"unit\":\"percent\"},\"ForecastIcon\":63,\"PSR\":\"中高\"},{\"forecastDate\":\"20231008\",\"week\":\"星期日\",\"forecastWind\":\"北至東北風5級，初時離岸及高地達7級。\",\"forecastWeather\":\"多雲，有驟雨。\",\"forecastMaxtemp\":{\"value\":29,\"unit\":\"C\"},\"forecastMintemp\":{\"value\":25,\"unit\":\"C\"},\"forecastMaxrh\":{\"value\":95,\"unit\":\"percent\"},\"forecastMinrh\":{\"value\":80,\"unit\":\"percent\"},\"ForecastIcon\":63,\"PSR\":\"中高\"},{\"forecastDate\":\"20231009\",\"week\":\"星期一\",\"forecastWind\":\"東北風4至5級，離岸及高地間中6級。\",\"forecastWeather\":\"大致多雲，有幾陣驟雨。\",\"forecastMaxtemp\":{\"value\":30,\"unit\":\"C\"},\"forecastMintemp\":{\"value\":26,\"unit\":\"C\"},\"forecastMaxrh\":{\"value\":90,\"unit\":\"percent\"},\"forecastMinrh\":{\"value\":70,\"unit\":\"percent\"},\"ForecastIcon\":62,\"PSR\":\"中低\"},{\"forecastDate\":\"20231010\",\"week\":\"星期二\",\"forecastWind\":\"東北風4級。\",\"forecastWeather\":\"大致多雲，有幾陣驟雨。\",\"forecastMaxtemp\":{\"value\":31,\"unit\":\"C\"},\"forecastMintemp\":{\"value\":26,\"unit\":\"C\"},\"forecastMaxrh\":{\"value\":90,\"unit\":\"percent\"},\"forecastMinrh\":{\"value\":70,\"unit\":\"percent\"},\"ForecastIcon\":62,\"PSR\":\"低\"},{\"forecastDate\":\"20231011\",\"week\":\"星期三\",\"forecastWind\":\"東北風3至4級。\",\"forecastWeather\":\"短暫時間有陽光，有一兩陣驟雨。\",\"forecastMaxtemp\":{\"value\":32,\"unit\":\"C\"},\"forecastMintemp\":{\"value\":27,\"unit\":\"C\"},\"forecastMaxrh\":{\"value\":85,\"unit\":\"percent\"},\"forecastMinrh\":{\"value\":65,\"unit\":\"percent\"},\"ForecastIcon\":54,\"PSR\":\"低\"}],\"updateTime\":\"2023-10-02T11:30:00+08:00\",\"seaTemp\":{\"place\":\"北角\",\"value\":29,\"unit\":\"C\",\"recordTime\":\"2023-10-02T07:00:00+08:00\"},\"soilTemp\":[{\"place\":\"香港天文台\",\"value\":30.7,\"unit\":\"C\",\"recordTime\":\"2023-10-02T07:00:00+08:00\",\"depth\":{\"unit\":\"metre\",\"value\":0.5}},{\"place\":\"香港天文台\",\"value\":30.2,\"unit\":\"C\",\"recordTime\":\"2023-10-02T07:00:00+08:00\",\"depth\":{\"unit\":\"metre\",\"value\":1}}]}\n"
     ]
    }
   ],
   "source": [
    "import requests, json\n",
    "\n",
    "## 九天天氣預報(繁體中文)\n",
    "url ='https://data.weather.gov.hk/weatherAPI/opendata/weather.php?dataType=fnd&lang=tc'\n",
    "\n",
    "ans = requests.get(url)\n",
    "ans.raise_for_status()\n",
    "\n",
    "## 把 JSON 數據轉成 Python 字典格式.\n",
    "weatherData = json.loads(ans.text)\n",
    "\n",
    "## Uncomment to see the raw JSON text:\n",
    "print(ans.text)"
   ]
  },
  {
   "cell_type": "code",
   "execution_count": 3,
   "id": "f46fdfe8",
   "metadata": {},
   "outputs": [
    {
     "name": "stdout",
     "output_type": "stream",
     "text": [
      "天氣概況: 高空反氣旋會在未來一兩日為華南帶來大致晴朗的天氣，但高溫觸發的驟雨及雷暴會影響該區。同時，熱帶氣旋小犬會移向呂宋海峽至台灣南部一帶並逐漸增強，隨後可能進入南海東北部，本週後期廣東沿岸有驟雨及風勢較大。此外，預料一股東北季候風亦會在本週後期抵達華南。受東北季候風影響，隨後小犬的路徑及強度存在變數，有可能沿廣東沿岸海域移動並減弱。\n"
     ]
    }
   ],
   "source": [
    "## 自訂顯然數據內容\n",
    "print('天氣概況:', weatherData['generalSituation'])"
   ]
  },
  {
   "cell_type": "code",
   "execution_count": 5,
   "id": "c0703d85",
   "metadata": {},
   "outputs": [],
   "source": [
    "def nineWeekWeather(dictForecast):\n",
    "    #w = weatherData['weatherForecast']\n",
    "    print('{:12} \\t {:8} \\t {}'.format('Date','Temp','Weather'))\n",
    "    for i in range(9):\n",
    "        print('{:8}({}) \\t {:02} ~ {:02} \\t {}'.format\n",
    "            (dictForecast[i]['forecastDate'], \n",
    "             dictForecast[i]['week'][2], \n",
    "             dictForecast[i]['forecastMintemp']['value'],\n",
    "             dictForecast[i]['forecastMaxtemp']['value'], \n",
    "             dictForecast[i]['forecastWeather']))"
   ]
  },
  {
   "cell_type": "code",
   "execution_count": 6,
   "id": "e5365b06",
   "metadata": {},
   "outputs": [
    {
     "name": "stdout",
     "output_type": "stream",
     "text": [
      "Date         \t Temp     \t Weather\n",
      "20231003(二) \t 28 ~ 33 \t 大致天晴，日間酷熱。稍後有幾陣驟雨。\n",
      "20231004(三) \t 28 ~ 35 \t 部分時間有陽光，但局部地區有驟雨。日間極端酷熱。\n",
      "20231005(四) \t 28 ~ 34 \t 大致天晴，但局部地區有驟雨。日間酷熱及乾燥。\n",
      "20231006(五) \t 27 ~ 32 \t 大致多雲，有幾陣驟雨。\n",
      "20231007(六) \t 25 ~ 29 \t 多雲，有驟雨。\n",
      "20231008(日) \t 25 ~ 29 \t 多雲，有驟雨。\n",
      "20231009(一) \t 26 ~ 30 \t 大致多雲，有幾陣驟雨。\n",
      "20231010(二) \t 26 ~ 31 \t 大致多雲，有幾陣驟雨。\n",
      "20231011(三) \t 27 ~ 32 \t 短暫時間有陽光，有一兩陣驟雨。\n"
     ]
    }
   ],
   "source": [
    "nineWeekWeather(weatherData['weatherForecast'])"
   ]
  },
  {
   "cell_type": "code",
   "execution_count": 16,
   "id": "9dc7893e",
   "metadata": {},
   "outputs": [
    {
     "data": {
      "text/plain": [
       "str"
      ]
     },
     "execution_count": 16,
     "metadata": {},
     "output_type": "execute_result"
    }
   ],
   "source": [
    "tmp = 'sss'\n",
    "type(tmp)"
   ]
  },
  {
   "cell_type": "code",
   "execution_count": 37,
   "id": "97fe667a",
   "metadata": {},
   "outputs": [],
   "source": [
    "import pandas as pd\n",
    "\n",
    "def nineWeekWeather2(dictForecast):\n",
    "    # reference: \n",
    "    myCols = {'Date': pd.Series(dtype='str'), \n",
    "              'Temp': pd.Series(dtype='str'), \n",
    "              'Weather': pd.Series(dtype='str')}        \n",
    "    df = pd.DataFrame(myCols)\n",
    "    for i in range(9):\n",
    "        myDate = '{:8}({})'.format(dictForecast[i]['forecastDate'], dictForecast[i]['week'][2])\n",
    "        myTemp = '{:02} ~ {:02}'.format(dictForecast[i]['forecastMintemp']['value'],\n",
    "             dictForecast[i]['forecastMaxtemp']['value'])\n",
    "        myFore = dictForecast[i]['forecastWeather']\n",
    "        dfTmp = pd.DataFrame({'Date': [myDate], 'Temp': [myTemp], 'Weather': [myFore]})\n",
    "        df = pd.concat([df, dfTmp], ignore_index=True)\n",
    "    return df"
   ]
  },
  {
   "cell_type": "code",
   "execution_count": 38,
   "id": "e636158f",
   "metadata": {},
   "outputs": [
    {
     "data": {
      "text/html": [
       "<div>\n",
       "<style scoped>\n",
       "    .dataframe tbody tr th:only-of-type {\n",
       "        vertical-align: middle;\n",
       "    }\n",
       "\n",
       "    .dataframe tbody tr th {\n",
       "        vertical-align: top;\n",
       "    }\n",
       "\n",
       "    .dataframe thead th {\n",
       "        text-align: right;\n",
       "    }\n",
       "</style>\n",
       "<table border=\"1\" class=\"dataframe\">\n",
       "  <thead>\n",
       "    <tr style=\"text-align: right;\">\n",
       "      <th></th>\n",
       "      <th>Date</th>\n",
       "      <th>Temp</th>\n",
       "      <th>Weather</th>\n",
       "    </tr>\n",
       "  </thead>\n",
       "  <tbody>\n",
       "    <tr>\n",
       "      <th>0</th>\n",
       "      <td>20231003(二)</td>\n",
       "      <td>28 ~ 33</td>\n",
       "      <td>大致天晴，日間酷熱。稍後有幾陣驟雨。</td>\n",
       "    </tr>\n",
       "    <tr>\n",
       "      <th>1</th>\n",
       "      <td>20231004(三)</td>\n",
       "      <td>28 ~ 35</td>\n",
       "      <td>部分時間有陽光，但局部地區有驟雨。日間極端酷熱。</td>\n",
       "    </tr>\n",
       "    <tr>\n",
       "      <th>2</th>\n",
       "      <td>20231005(四)</td>\n",
       "      <td>28 ~ 34</td>\n",
       "      <td>大致天晴，但局部地區有驟雨。日間酷熱及乾燥。</td>\n",
       "    </tr>\n",
       "    <tr>\n",
       "      <th>3</th>\n",
       "      <td>20231006(五)</td>\n",
       "      <td>27 ~ 32</td>\n",
       "      <td>大致多雲，有幾陣驟雨。</td>\n",
       "    </tr>\n",
       "    <tr>\n",
       "      <th>4</th>\n",
       "      <td>20231007(六)</td>\n",
       "      <td>25 ~ 29</td>\n",
       "      <td>多雲，有驟雨。</td>\n",
       "    </tr>\n",
       "    <tr>\n",
       "      <th>5</th>\n",
       "      <td>20231008(日)</td>\n",
       "      <td>25 ~ 29</td>\n",
       "      <td>多雲，有驟雨。</td>\n",
       "    </tr>\n",
       "    <tr>\n",
       "      <th>6</th>\n",
       "      <td>20231009(一)</td>\n",
       "      <td>26 ~ 30</td>\n",
       "      <td>大致多雲，有幾陣驟雨。</td>\n",
       "    </tr>\n",
       "    <tr>\n",
       "      <th>7</th>\n",
       "      <td>20231010(二)</td>\n",
       "      <td>26 ~ 31</td>\n",
       "      <td>大致多雲，有幾陣驟雨。</td>\n",
       "    </tr>\n",
       "    <tr>\n",
       "      <th>8</th>\n",
       "      <td>20231011(三)</td>\n",
       "      <td>27 ~ 32</td>\n",
       "      <td>短暫時間有陽光，有一兩陣驟雨。</td>\n",
       "    </tr>\n",
       "  </tbody>\n",
       "</table>\n",
       "</div>"
      ],
      "text/plain": [
       "          Date     Temp                   Weather\n",
       "0  20231003(二)  28 ~ 33        大致天晴，日間酷熱。稍後有幾陣驟雨。\n",
       "1  20231004(三)  28 ~ 35  部分時間有陽光，但局部地區有驟雨。日間極端酷熱。\n",
       "2  20231005(四)  28 ~ 34    大致天晴，但局部地區有驟雨。日間酷熱及乾燥。\n",
       "3  20231006(五)  27 ~ 32               大致多雲，有幾陣驟雨。\n",
       "4  20231007(六)  25 ~ 29                   多雲，有驟雨。\n",
       "5  20231008(日)  25 ~ 29                   多雲，有驟雨。\n",
       "6  20231009(一)  26 ~ 30               大致多雲，有幾陣驟雨。\n",
       "7  20231010(二)  26 ~ 31               大致多雲，有幾陣驟雨。\n",
       "8  20231011(三)  27 ~ 32           短暫時間有陽光，有一兩陣驟雨。"
      ]
     },
     "execution_count": 38,
     "metadata": {},
     "output_type": "execute_result"
    }
   ],
   "source": [
    "nineWeekWeather2(weatherData['weatherForecast'])"
   ]
  },
  {
   "cell_type": "code",
   "execution_count": 9,
   "id": "2c4522b6",
   "metadata": {},
   "outputs": [
    {
     "name": "stdout",
     "output_type": "stream",
     "text": [
      "Hello\n",
      "Mini\n",
      "Hello\\nMini\n",
      "Hello\\nMini\n"
     ]
    }
   ],
   "source": [
    "str = 'Hello\\nMini'\n",
    "print(str)\n",
    "str2 = 'Hello\\\\nMini'\n",
    "print(str2)\n",
    "str3 = r'Hello\\nMini'\n",
    "print(str3)"
   ]
  },
  {
   "cell_type": "code",
   "execution_count": 39,
   "id": "4c8cae64",
   "metadata": {},
   "outputs": [
    {
     "name": "stdout",
     "output_type": "stream",
     "text": [
      "Result = <re.Match object; span=(12, 17), match='David'>\n",
      "group() = David\n",
      "span() = (12, 17)\n",
      "Result = None\n"
     ]
    }
   ],
   "source": [
    "import re\n",
    "\n",
    "ans = re.search(r'David', 'Staff list: David, David and Tai Man.')\n",
    "print('Result =', ans)\n",
    "if not ans == None:\n",
    "    print('group() =', ans.group())\n",
    "    print('span() =', ans.span())\n",
    "else:\n",
    "    print('None')\n",
    "\n",
    "ans = re.search(r'David', 'Staff list: Ada and Tai Man.')\n",
    "print('Result =', ans)"
   ]
  },
  {
   "cell_type": "code",
   "execution_count": 40,
   "id": "eb28cd68",
   "metadata": {},
   "outputs": [
    {
     "name": "stdout",
     "output_type": "stream",
     "text": [
      "Result = <re.Match object; span=(12, 17), match='David'>\n",
      "group() = David\n",
      "span() = (12, 17)\n",
      "Result = None\n"
     ]
    }
   ],
   "source": [
    "import re\n",
    "\n",
    "match = re.compile (r'David')\n",
    "ans = match.search('Staff list: David and Tai Man.')\n",
    "print('Result =', ans)\n",
    "if not ans == None:\n",
    "    print('group() =', ans.group())\n",
    "    print('span() =', ans.span())\n",
    "else:\n",
    "    print('None')\n",
    "\n",
    "ans = match.search('Staff list: Ada and Tai Man.')\n",
    "print('Result =', ans)"
   ]
  },
  {
   "cell_type": "code",
   "execution_count": 42,
   "id": "7f49cfe2",
   "metadata": {},
   "outputs": [
    {
     "name": "stdout",
     "output_type": "stream",
     "text": [
      "group() = |\n",
      "group() = David\n",
      "group() = Mandy\n"
     ]
    }
   ],
   "source": [
    "import re\n",
    "\n",
    "match = re.compile (r'David|Tai Man|\\|')\n",
    "# search first occurence\n",
    "ans = match.search('Staff list: | Tai Man and | David.')\n",
    "if not ans == None:\n",
    "    print('group() =',ans.group())\n",
    "    # search first occurence\n",
    "else:\n",
    "    print('None')\n",
    "\n",
    "ans = match.search('Staff list: David and Tai Man.')\n",
    "if not ans == None:\n",
    "    print('group() =',ans.group())\n",
    "else:\n",
    "    print('None')\n",
    "\n",
    "ans = re.search(r'(C|K|M)andy', 'Who is Mandy?')\n",
    "if not ans == None:\n",
    "    print('group() =', ans.group())\n",
    "else:\n",
    "    print('None')"
   ]
  },
  {
   "cell_type": "code",
   "execution_count": 43,
   "id": "9015e37d",
   "metadata": {},
   "outputs": [
    {
     "name": "stdout",
     "output_type": "stream",
     "text": [
      "group() = Superman\n",
      "group() = Superwoman\n",
      "\n"
     ]
    }
   ],
   "source": [
    "import re\n",
    "# ? = [0, 1]\n",
    "match = re.compile(r'Super(wo)?man')\n",
    "# equivalent to:\n",
    "# match = re.compile(r'Superwoman|Superman')\n",
    "ans1 = match.search('The Stories of Superman')\n",
    "print('group() =', ans1.group())\n",
    "ans2 = match.search('The Stories of Superwoman')\n",
    "print('group() =', ans2.group())\n",
    "print()\n"
   ]
  },
  {
   "cell_type": "code",
   "execution_count": 15,
   "id": "fa346491",
   "metadata": {},
   "outputs": [
    {
     "name": "stdout",
     "output_type": "stream",
     "text": [
      "group() = Superman\n",
      "group() = Superwowowowoman\n"
     ]
    }
   ],
   "source": [
    "# * = [0,1,2,...]\n",
    "match = re.compile(r'Super(wo)*man')\n",
    "ans1 = match.search('The Stories of Superman')\n",
    "print('group() =', ans1.group())\n",
    "ans2 = match.search('The Stories of Superwowowowoman')\n",
    "print('group() =', ans2.group())"
   ]
  },
  {
   "cell_type": "code",
   "execution_count": 45,
   "id": "0778d3f3",
   "metadata": {},
   "outputs": [
    {
     "name": "stdout",
     "output_type": "stream",
     "text": [
      "None\n",
      "group() = Superwowowowoman\n"
     ]
    }
   ],
   "source": [
    "# + = [1,2,3,...]\n",
    "match = re.compile(r'Super(wo)+man')\n",
    "ans1 = match.search('The Stories of Superman')\n",
    "if not ans1 == None:\n",
    "    print('group() =', ans1.group())\n",
    "else:\n",
    "    print('None')\n",
    "ans2 = match.search('The Stories of Superwowowowoman')\n",
    "if not ans2 == None:\n",
    "    print('group() =', ans2.group())"
   ]
  },
  {
   "cell_type": "code",
   "execution_count": 18,
   "id": "63bb46b4",
   "metadata": {
    "scrolled": true
   },
   "outputs": [
    {
     "name": "stdout",
     "output_type": "stream",
     "text": [
      "group() = 41\n",
      "\n",
      "group() = 41\n",
      "\n",
      "group() = 4,\n"
     ]
    }
   ],
   "source": [
    "import re\n",
    "\n",
    "ans = re.search(r'4[0123456789]', 'Check list: 14, 28, 33, 36, 41, 49.')\n",
    "print('group() =', ans.group())\n",
    "print()\n",
    "\n",
    "ans = re.search(r'4[0-9]', 'Check list: 14, 28, 33, 36, 41, 49.')\n",
    "print('group() =', ans.group())\n",
    "print()\n",
    "\n",
    "ans = re.search(r'4[^0-9]', 'Check list: 14, 28, 33, 36, 41, 49.')\n",
    "print('group() =', ans.group())"
   ]
  },
  {
   "cell_type": "code",
   "execution_count": 49,
   "id": "ba4874f1",
   "metadata": {},
   "outputs": [
    {
     "name": "stdout",
     "output_type": "stream",
     "text": [
      "group() = 41\n",
      "\n",
      "<re.Match object; span=(13, 22), match='2575-2803'>\n",
      "Phone number found: 2575-2803\n",
      "Phone number found (0): 2575-2803\n",
      "Phone number found (1): 2575\n",
      "Phone number found (2): 2803\n",
      "\n",
      "Phone number found: ('2575', '2803')\n",
      "2575 2803\n",
      "2575 2803\n"
     ]
    }
   ],
   "source": [
    "import re\n",
    "\n",
    "ans = re.search(r'4\\d', 'Check list: 14, 28, 33, 36, 41, 49.')\n",
    "print('group() =', ans.group())\n",
    "print()\n",
    "\n",
    "ans = re.search(r'(\\d\\d\\d\\d)-(\\d\\d\\d\\d)', 'My number is 2575-2803.')\n",
    "print(ans)\n",
    "print('Phone number found:', ans.group())\n",
    "print('Phone number found (0):', ans.group(0))\n",
    "print('Phone number found (1):', ans.group(1))\n",
    "print('Phone number found (2):', ans.group(2))\n",
    "print()\n",
    "\n",
    "print('Phone number found:', ans.groups())\n",
    "part1, part2 = ans.groups()\n",
    "print(part1, part2)\n",
    "lst = ans.groups()\n",
    "print(lst[0], lst[1])\n"
   ]
  },
  {
   "cell_type": "code",
   "execution_count": 58,
   "id": "5bce0ff7",
   "metadata": {},
   "outputs": [
    {
     "name": "stdout",
     "output_type": "stream",
     "text": [
      "0.\n",
      "<re.Match object; span=(13, 22), match='2575-2803'>\n",
      "Found at: (13, 22)\n",
      "Phone number found: 2575-2803\n",
      "1.\n",
      "<re.Match object; span=(13, 22), match='2575 2803'>\n",
      "Found at: (13, 22)\n",
      "Phone number found: 2575 2803\n",
      "2.\n",
      "<re.Match object; span=(13, 21), match='25752803'>\n",
      "Found at: (13, 21)\n",
      "Phone number found: 25752803\n"
     ]
    }
   ],
   "source": [
    "# ? [0, 1]\n",
    "match = re.compile(r'\\d\\d\\d\\d[- ]?\\d\\d\\d\\d')\n",
    "\n",
    "def matchString(matching):\n",
    "    ans = match.search(matching)\n",
    "    print(ans)\n",
    "    if not ans == None:\n",
    "        print('Found at:', ans.span())\n",
    "        print('Phone number found:', ans.group())\n",
    "    else:\n",
    "        print('None')\n",
    "\n",
    "lstMatching = ['My number is 2575-2803.', 'My number is 2575 2803.', 'My number is 25752803.']\n",
    "for i in range(len(lstMatching)):\n",
    "    print(f'{i}.')\n",
    "    matchString(lstMatching[i])"
   ]
  },
  {
   "cell_type": "code",
   "execution_count": 27,
   "id": "2097e386",
   "metadata": {},
   "outputs": [
    {
     "name": "stdout",
     "output_type": "stream",
     "text": [
      "<re.Match object; span=(13, 28), match='(852) 2575-2803'>\n",
      "Phone number found: (852) 2575-2803\n",
      "Phone number found: (852) 2575-2803\n",
      "Phone number found: (852)\n",
      "Phone number found: 2575-2803\n",
      "\n",
      "Phone number found:  ('(852)', '2575-2803')\n",
      "(852) 2575-2803\n",
      "\n",
      "group() = (852) 2575-2803\n",
      "group() = (852) \n",
      "\n",
      "group() = 2575-2803\n",
      "\n"
     ]
    }
   ],
   "source": [
    "import re\n",
    "\n",
    "ans = re.search(r'(\\(\\d{3}\\)) (\\d{4}-\\d{4})', 'My number is (852) 2575-2803.')\n",
    "print(ans)\n",
    "print('Phone number found:', ans.group())\n",
    "print('Phone number found:', ans.group(0))\n",
    "print('Phone number found:', ans.group(1))\n",
    "print('Phone number found:', ans.group(2))\n",
    "print()\n",
    "\n",
    "print('Phone number found: ', ans.groups())\n",
    "part1, part2 = ans.groups()\n",
    "print(part1, part2)\n",
    "print()\n",
    "\n",
    "match = re.compile(r'(\\(\\d{3}\\) )?\\d{4}-\\d{4}')\n",
    "ans = match.search('My number is (852) 2575-2803')\n",
    "print('group() =', ans.group())\n",
    "print('group() =', ans.group(1))\n",
    "print()\n",
    "\n",
    "ans = match.search('My number is 2575-2803')\n",
    "print('group() =', ans.group())\n",
    "print()"
   ]
  },
  {
   "cell_type": "code",
   "execution_count": 60,
   "id": "e0e33ad7",
   "metadata": {},
   "outputs": [
    {
     "name": "stdout",
     "output_type": "stream",
     "text": [
      "group() = HaHaHaHa\n",
      "group() = Ha\n",
      "None\n",
      "\n",
      "group() of {2,6} = HaHaHaHaHaHa\n",
      "{} with ? 以少的數 i.e. 2 為主\n",
      "group() of {2,6}? = HaHa\n",
      "\n"
     ]
    }
   ],
   "source": [
    "import re\n",
    "\n",
    "match = re.compile(r'(Ha){4}')\n",
    "ans = match.search('Who is HaHaHaHa')\n",
    "print('group() =', ans.group())\n",
    "print('group() =', ans.group(1))\n",
    "ans = match.search('HaHaHa')\n",
    "print(ans)\n",
    "print()\n",
    "\n",
    "ans = re.search(r'(Ha){2,6}', 'HaHaHaHaHaHa')\n",
    "print('group() of {2,6} =', ans.group())\n",
    "# {} with ? 以少的數 i.e. 2 為主\n",
    "print('{} with ? 以少的數 i.e. 2 為主')\n",
    "ans = re.search(r'(Ha){2,6}?', 'HaHaHaHaHaHa')\n",
    "print('group() of {2,6}? =', ans.group())\n",
    "print()"
   ]
  },
  {
   "cell_type": "code",
   "execution_count": 61,
   "id": "00e175f2",
   "metadata": {},
   "outputs": [
    {
     "name": "stdout",
     "output_type": "stream",
     "text": [
      "group() = 2575-2803\n",
      "\n",
      "['2575-2803', '2575-7933']\n",
      "\n",
      "[('2575', '2803'), ('2575', '7933')]\n",
      "\n"
     ]
    }
   ],
   "source": [
    "import re\n",
    "\n",
    "match = re.compile(r'\\d\\d\\d\\d-\\d\\d\\d\\d')\n",
    "ans = match.search('Line1: 2575-2803  Line2: 2575-7933')\n",
    "print('group() =', ans.group())\n",
    "print()\n",
    "\n",
    "match = re.compile(r'\\d\\d\\d\\d-\\d\\d\\d\\d')\n",
    "ans = match.findall('Line1: 2575-2803  Line2: 2575-7933')\n",
    "print(ans)\n",
    "print()\n",
    "\n",
    "match = re.compile(r'(\\d\\d\\d\\d)-(\\d\\d\\d\\d)')\n",
    "ans = match.findall('Line1: 2575-2803  Line2: 2575-7933')\n",
    "print(ans)\n",
    "print()\n"
   ]
  },
  {
   "cell_type": "code",
   "execution_count": 62,
   "id": "2c3e4784",
   "metadata": {},
   "outputs": [
    {
     "name": "stdout",
     "output_type": "stream",
     "text": [
      "['4 Alex', '8 Ada', '5 Amy', '1 John', '2 Danny', '7 Candy', '3 Mandy', '6 Apple', '12 Orange', '313 Cindy']\n",
      "\n",
      "['Candy', 'Mandy']\n"
     ]
    }
   ],
   "source": [
    "import re\n",
    "match = re.compile(r'\\d+\\s\\w+')\n",
    "ans = match.findall('4 Alex, 8 Ada, 5 Amy, 1 John, 2 Danny, 7 Candy, 3 Mandy, 6 Apple, 12 Orange, 313 Cindy')\n",
    "print(ans)\n",
    "print()\n",
    "\n",
    "match = re.compile(r'.andy')\n",
    "ans = match.findall('Staff: Ada, Amy, Candy, Cindy, Mandy')\n",
    "print(ans)"
   ]
  },
  {
   "cell_type": "code",
   "execution_count": 80,
   "id": "fa809242",
   "metadata": {},
   "outputs": [],
   "source": [
    "import re\n",
    "# step one\n",
    "def readIt():\n",
    "    # Read text file\n",
    "    with open('C:\\\\Temp\\\\sample428.txt') as checkFile:\n",
    "        strText = checkFile.read()\n",
    "    return strText\n",
    "\n",
    "# step two\n",
    "def findIt():\n",
    "    Result = []\n",
    "    # Phone Regex\n",
    "    # phoneRe = re.compile(r'((\\d{4})(\\s|-)*(\\d{4}))')\n",
    "    phoneRe = re.compile(r'((\\d{4})([\\s-])*(\\d{4}))')\n",
    "    for groups in phoneRe.findall(Text):\n",
    "        phoneNum = '-'.join([groups[1], groups[3]])\n",
    "        Result.append(phoneNum)\n",
    "    return Result\n",
    "\n",
    "# step three\n",
    "def copyResult():\n",
    "    # Copy Result to New File\n",
    "    if len(lstRes) > 0:\n",
    "        with open('C:\\\\Temp\\\\Result.txt','w') as resultFile:\n",
    "            resultFile.write('\\n'.join(lstRes))\n",
    "        print('Copied to File')\n",
    "    else:\n",
    "        print('No phone found.')       \n"
   ]
  },
  {
   "cell_type": "code",
   "execution_count": 81,
   "id": "9d523788",
   "metadata": {},
   "outputs": [
    {
     "name": "stdout",
     "output_type": "stream",
     "text": [
      "['2555-0313', '2893-3112', '2508-9200', '2712-9175', '2568-8922']\n",
      "length of lstRes: 5\n",
      "Copied to File\n"
     ]
    }
   ],
   "source": [
    "# step one:\n",
    "Text = readIt()\n",
    "# step two:\n",
    "lstRes = findIt()\n",
    "print(lstRes)\n",
    "print(f'length of lstRes: {len(lstRes)}')\n",
    "# step three\n",
    "copyResult()"
   ]
  },
  {
   "cell_type": "code",
   "execution_count": null,
   "id": "4190cfae",
   "metadata": {},
   "outputs": [],
   "source": []
  }
 ],
 "metadata": {
  "kernelspec": {
   "display_name": "Python 3 (ipykernel)",
   "language": "python",
   "name": "python3"
  },
  "language_info": {
   "codemirror_mode": {
    "name": "ipython",
    "version": 3
   },
   "file_extension": ".py",
   "mimetype": "text/x-python",
   "name": "python",
   "nbconvert_exporter": "python",
   "pygments_lexer": "ipython3",
   "version": "3.10.5"
  }
 },
 "nbformat": 4,
 "nbformat_minor": 5
}
