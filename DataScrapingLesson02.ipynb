{
 "cells": [
  {
   "cell_type": "code",
   "execution_count": 2,
   "id": "c52561fd",
   "metadata": {},
   "outputs": [],
   "source": [
    "csvPath = 'D:\\\\Temp\\\\demo1.csv'"
   ]
  },
  {
   "cell_type": "code",
   "execution_count": 9,
   "id": "7dd17c34",
   "metadata": {},
   "outputs": [
    {
     "name": "stdout",
     "output_type": "stream",
     "text": [
      "Code,Ref,Name,Date,Ref Amt,\"\"\"S\"\" Grade\",\"Sounds, Items\"\n",
      "C1254,234,David,2020/11/17,\"$2,354.70\",KL,\"23,45\"\n",
      "D2365,965,Andy,2010/2/27,\"$3,654.00\",PO,\"65,23\"\n",
      "E7412,874,Simon Pan,2019/5/4,\"$1,258.00\",KL,\"41,98\"\n",
      "Q6578,125,Ada,2015/4/9,\"$1,265.00\",QA,\"45,32\"\n",
      "A2569,987,Danny Wan,2020/6/5,\"$14,562.00\",LP,\"74,12\"\n",
      "C2587,452,Chan,2015/6/1,\"$3,200.00\",PO,\"63,21\"\n",
      "S3214,658,Martin,2012/11/23,\"$9,854.00\",QA,\"11,33\"\n",
      "\n",
      "<class 'str'>\n"
     ]
    }
   ],
   "source": [
    "# sample 410\n",
    "# output string\n",
    "with open(csvPath) as demoFile:\n",
    "    demoText = demoFile.read()\n",
    "    print(demoText)\n",
    "    print(type(demoText))"
   ]
  },
  {
   "cell_type": "code",
   "execution_count": 8,
   "id": "5aee8498",
   "metadata": {},
   "outputs": [
    {
     "name": "stdout",
     "output_type": "stream",
     "text": [
      "~~~~~~~~~~~~~~~~~~~~~~~~~~~~~~~~~~~~~~~~\n",
      "['Code,Ref,Name,Date,Ref Amt,\"\"\"S\"\" Grade\",\"Sounds, Items\"\\n', 'C1254,234,David,2020/11/17,\"$2,354.70\",KL,\"23,45\"\\n', 'D2365,965,Andy,2010/2/27,\"$3,654.00\",PO,\"65,23\"\\n', 'E7412,874,Simon Pan,2019/5/4,\"$1,258.00\",KL,\"41,98\"\\n', 'Q6578,125,Ada,2015/4/9,\"$1,265.00\",QA,\"45,32\"\\n', 'A2569,987,Danny Wan,2020/6/5,\"$14,562.00\",LP,\"74,12\"\\n', 'C2587,452,Chan,2015/6/1,\"$3,200.00\",PO,\"63,21\"\\n', 'S3214,658,Martin,2012/11/23,\"$9,854.00\",QA,\"11,33\"\\n']\n",
      "<class 'list'>\n"
     ]
    }
   ],
   "source": [
    "print('~' * 40)\n",
    "# output list\n",
    "with open(csvPath) as demoFile:\n",
    "    demoText = demoFile.readlines()\n",
    "    print(demoText)\n",
    "    print(type(demoText))"
   ]
  },
  {
   "cell_type": "code",
   "execution_count": 14,
   "id": "f090ed84",
   "metadata": {},
   "outputs": [
    {
     "name": "stdout",
     "output_type": "stream",
     "text": [
      "[{'Code': 'C1254', 'Ref': '234'}, {'Code': 'D2365', 'Ref': '965'}, {'Code': 'E7412', 'Ref': '874'}, {'Code': 'Q6578', 'Ref': '125'}, {'Code': 'A2569', 'Ref': '987'}, {'Code': 'C2587', 'Ref': '452'}, {'Code': 'S3214', 'Ref': '658'}]\n"
     ]
    }
   ],
   "source": [
    "# sample 411\n",
    "\n",
    "import csv\n",
    "\n",
    "lstOfObj = []\n",
    "\n",
    "with open(csvPath) as f:\n",
    "    rows = csv.reader(f)\n",
    "    lstHeader = next(rows)\n",
    "    for row in rows:        \n",
    "        dict1 = {}\n",
    "        dict1[lstHeader[0]] = row[0]\n",
    "        dict1[lstHeader[1]] = row[1]        \n",
    "        lstOfObj.append(dict1)\n",
    "        #print(row)\n",
    "print(lstOfObj)"
   ]
  },
  {
   "cell_type": "code",
   "execution_count": 13,
   "id": "335805ab",
   "metadata": {},
   "outputs": [
    {
     "name": "stdout",
     "output_type": "stream",
     "text": [
      "line[01] ['Code', 'Ref', 'Name', 'Date', 'Ref Amt', '\"S\" Grade', 'Sounds, Items']\n",
      "line[02] ['C1254', '234', 'David', '2020/11/17', '$2,354.70', 'KL', '23,45']\n",
      "line[03] ['D2365', '965', 'Andy', '2010/2/27', '$3,654.00', 'PO', '65,23']\n",
      "line[04] ['E7412', '874', 'Simon Pan', '2019/5/4', '$1,258.00', 'KL', '41,98']\n",
      "line[05] ['Q6578', '125', 'Ada', '2015/4/9', '$1,265.00', 'QA', '45,32']\n",
      "line[06] ['A2569', '987', 'Danny Wan', '2020/6/5', '$14,562.00', 'LP', '74,12']\n",
      "line[07] ['C2587', '452', 'Chan', '2015/6/1', '$3,200.00', 'PO', '63,21']\n",
      "line[08] ['S3214', '658', 'Martin', '2012/11/23', '$9,854.00', 'QA', '11,33']\n"
     ]
    }
   ],
   "source": [
    "import csv\n",
    "\n",
    "with open(csvPath) as f:\n",
    "    rows = csv.reader(f)\n",
    "    for row in rows:\n",
    "        print('line[%02d] %s' % (rows.line_num, row))"
   ]
  },
  {
   "cell_type": "code",
   "execution_count": 18,
   "id": "94f034b4",
   "metadata": {},
   "outputs": [
    {
     "name": "stdout",
     "output_type": "stream",
     "text": [
      "Code ->  C1254\n",
      "Ref ->  234\n",
      "Name ->  David\n",
      "Date ->  2020/11/17\n",
      "Ref Amt ->  $2,354.70\n",
      "\"S\" Grade ->  KL\n",
      "Sounds, Items ->  23,45\n"
     ]
    }
   ],
   "source": [
    "import csv\n",
    "\n",
    "lstOfDict = []\n",
    "with open(csvPath) as f:\n",
    "    rows = csv.DictReader(f)\n",
    "    for row in rows:\n",
    "        #print(row)\n",
    "        lstOfDict.append(row)\n",
    "# print(lstOfDict[0])\n",
    "def askIndex(idx):\n",
    "    dictObj = lstOfDict[idx]\n",
    "    for key in dictObj:\n",
    "        print(key, '-> ', dictObj[key])\n",
    "askIndex(4)"
   ]
  },
  {
   "cell_type": "code",
   "execution_count": 20,
   "id": "5dbff179",
   "metadata": {},
   "outputs": [
    {
     "name": "stdout",
     "output_type": "stream",
     "text": [
      "Code ->  A2569\n",
      "Ref ->  987\n",
      "Name ->  Danny Wan\n",
      "Date ->  2020/6/5\n",
      "Ref Amt ->  $14,562.00\n",
      "\"S\" Grade ->  LP\n",
      "Sounds, Items ->  74,12\n"
     ]
    }
   ],
   "source": [
    "import csv\n",
    "\n",
    "lstOfDict = []\n",
    "with open(csvPath) as f:\n",
    "    rows = csv.DictReader(f)\n",
    "    # change rows into list\n",
    "    lstOfDict = list(rows)\n",
    "# print(lstOfDict[0])\n",
    "def askIndex2(idx):\n",
    "    dictObj = lstOfDict[idx]\n",
    "    for key in dictObj:\n",
    "        print(key, '-> ', dictObj[key])\n",
    "askIndex2(4)"
   ]
  },
  {
   "cell_type": "code",
   "execution_count": 21,
   "id": "636aefee",
   "metadata": {},
   "outputs": [],
   "source": [
    "import csv\n",
    "\n",
    "csvPath2 = 'D:\\\\Temp\\\\demo2.csv'\n",
    "\n",
    "lstData = [\n",
    "    ['Code', 'Name', 'Product', 'Price'],\n",
    "    ['C2613', 'David', 'CARD', 36.45],\n",
    "    ['C2614', 'Andy', 'INK', 69.45],\n",
    "    ['C2621', 'Mandy', 'RULER', 16.46],\n",
    "    ['C2638', 'Ada', 'PEN', 79.05]\n",
    "]\n",
    "\n",
    "with open(csvPath2, 'w', newline='') as f:\n",
    "    writer = csv.writer(f)\n",
    "    for i in lstData:        \n",
    "        writer.writerow(i)"
   ]
  },
  {
   "cell_type": "code",
   "execution_count": 22,
   "id": "7ac46a27",
   "metadata": {},
   "outputs": [],
   "source": [
    "import csv\n",
    "\n",
    "csvPath3 = 'D:\\\\Temp\\\\demo3.csv'\n",
    "\n",
    "data = [['Code', 'Name', 'Product', 'Price'],\n",
    "    ['C2613', 'David', 'CARD', 36.45],\n",
    "    ['C2614', 'Andy', 'INK', 69.45],\n",
    "    ['C2621', 'Mandy', 'RULER', 16.46],\n",
    "    ['C2638', 'Ada', 'PEN', 79.05]]\n",
    "    \n",
    "with open(csvPath3, 'w', newline='') as f:\n",
    "    writer = csv.writer(f)\n",
    "    writer.writerows(data)"
   ]
  },
  {
   "cell_type": "code",
   "execution_count": 23,
   "id": "3bb4f6c6",
   "metadata": {},
   "outputs": [
    {
     "name": "stdout",
     "output_type": "stream",
     "text": [
      "<class 'dict'>\n",
      "{'name': 'Lucky', 'isDog': False, 'Legs': 4, 'Color': 'Yellow'}\n"
     ]
    }
   ],
   "source": [
    "import json\n",
    "\n",
    "JsonStyleData = '{\"name\": \"Lucky\", \"isDog\": false, \"Legs\": 4, \"Color\": \"Yellow\"}'\n",
    "# loads return object\n",
    "PythonStyleData = json.loads(JsonStyleData)\n",
    "\n",
    "print(type(PythonStyleData))\n",
    "print(PythonStyleData)\n"
   ]
  },
  {
   "cell_type": "code",
   "execution_count": 25,
   "id": "7b2a4283",
   "metadata": {},
   "outputs": [
    {
     "name": "stdout",
     "output_type": "stream",
     "text": [
      "<class 'str'>\n",
      "{\"isDog\": true, \"Legs\": 4, \"name\": \"Bebe\", \"Color\": \"Black\", \"true\": 5, \"2\": \"rrr\"}\n"
     ]
    }
   ],
   "source": [
    "import json\n",
    "\n",
    "PythonStyleData = {'isDog': True, 'Legs': 4, 'name': 'Bebe', 'Color': 'Black', True: 5, 2: 'rrr'}\n",
    "# dumps return string\n",
    "JsonStyleData = json.dumps(PythonStyleData)\n",
    "\n",
    "print(type(JsonStyleData))\n",
    "print(JsonStyleData)\n"
   ]
  },
  {
   "cell_type": "code",
   "execution_count": 26,
   "id": "4dbedad2",
   "metadata": {},
   "outputs": [
    {
     "name": "stdout",
     "output_type": "stream",
     "text": [
      "{\"generalSituation\":\"一股微弱東北季候風會在明日抵達廣東沿岸，未來兩三日該區雲量較多及有幾陣驟雨。受高空反氣旋影響，下週初廣東沿岸天色普遍晴朗。此外，一道廣闊低壓槽會在下週為南海中部至菲律賓一帶帶來不穩定天氣。預料另一股東北季候風會在下週後期抵達華南，該區有幾陣驟雨。\",\"weatherForecast\":[{\"forecastDate\":\"20230922\",\"week\":\"星期五\",\"forecastWind\":\"微風2級，漸轉東至東北風3至4級。\",\"forecastWeather\":\"短暫時間有陽光，有幾陣驟雨，局部地區有雷暴。\",\"forecastMaxtemp\":{\"value\":32,\"unit\":\"C\"},\"forecastMintemp\":{\"value\":27,\"unit\":\"C\"},\"forecastMaxrh\":{\"value\":95,\"unit\":\"percent\"},\"forecastMinrh\":{\"value\":70,\"unit\":\"percent\"},\"ForecastIcon\":54,\"PSR\":\"中低\"},{\"forecastDate\":\"20230923\",\"week\":\"星期六\",\"forecastWind\":\"東至東北風4級，離岸間中5級。\",\"forecastWeather\":\"短暫時間有陽光，有幾陣驟雨。\",\"forecastMaxtemp\":{\"value\":32,\"unit\":\"C\"},\"forecastMintemp\":{\"value\":27,\"unit\":\"C\"},\"forecastMaxrh\":{\"value\":95,\"unit\":\"percent\"},\"forecastMinrh\":{\"value\":70,\"unit\":\"percent\"},\"ForecastIcon\":54,\"PSR\":\"低\"},{\"forecastDate\":\"20230924\",\"week\":\"星期日\",\"forecastWind\":\"東至東北風4級，離岸及高地間中5級。\",\"forecastWeather\":\"短暫時間有陽光，有幾陣驟雨。\",\"forecastMaxtemp\":{\"value\":32,\"unit\":\"C\"},\"forecastMintemp\":{\"value\":27,\"unit\":\"C\"},\"forecastMaxrh\":{\"value\":95,\"unit\":\"percent\"},\"forecastMinrh\":{\"value\":70,\"unit\":\"percent\"},\"ForecastIcon\":54,\"PSR\":\"低\"},{\"forecastDate\":\"20230925\",\"week\":\"星期一\",\"forecastWind\":\"東至東北風4級，初時離岸間中5級。\",\"forecastWeather\":\"部分時間有陽光。\",\"forecastMaxtemp\":{\"value\":32,\"unit\":\"C\"},\"forecastMintemp\":{\"value\":27,\"unit\":\"C\"},\"forecastMaxrh\":{\"value\":90,\"unit\":\"percent\"},\"forecastMinrh\":{\"value\":65,\"unit\":\"percent\"},\"ForecastIcon\":51,\"PSR\":\"低\"},{\"forecastDate\":\"20230926\",\"week\":\"星期二\",\"forecastWind\":\"東至東北風3至4級。\",\"forecastWeather\":\"部分時間有陽光，局部地區有驟雨。\",\"forecastMaxtemp\":{\"value\":32,\"unit\":\"C\"},\"forecastMintemp\":{\"value\":27,\"unit\":\"C\"},\"forecastMaxrh\":{\"value\":90,\"unit\":\"percent\"},\"forecastMinrh\":{\"value\":65,\"unit\":\"percent\"},\"ForecastIcon\":51,\"PSR\":\"低\"},{\"forecastDate\":\"20230927\",\"week\":\"星期三\",\"forecastWind\":\"東至東北風3至4級。\",\"forecastWeather\":\"短暫時間有陽光，有幾陣驟雨。\",\"forecastMaxtemp\":{\"value\":31,\"unit\":\"C\"},\"forecastMintemp\":{\"value\":27,\"unit\":\"C\"},\"forecastMaxrh\":{\"value\":95,\"unit\":\"percent\"},\"forecastMinrh\":{\"value\":70,\"unit\":\"percent\"},\"ForecastIcon\":54,\"PSR\":\"低\"},{\"forecastDate\":\"20230928\",\"week\":\"星期四\",\"forecastWind\":\"東至東北風4級，離岸間中5級。\",\"forecastWeather\":\"大致多雲，有幾陣驟雨。日間短暫時間有陽光。\",\"forecastMaxtemp\":{\"value\":31,\"unit\":\"C\"},\"forecastMintemp\":{\"value\":27,\"unit\":\"C\"},\"forecastMaxrh\":{\"value\":95,\"unit\":\"percent\"},\"forecastMinrh\":{\"value\":70,\"unit\":\"percent\"},\"ForecastIcon\":54,\"PSR\":\"中低\"},{\"forecastDate\":\"20230929\",\"week\":\"星期五\",\"forecastWind\":\"北至東北風4至5級。\",\"forecastWeather\":\"大致多雲，有幾陣驟雨。日間短暫時間有陽光。\",\"forecastMaxtemp\":{\"value\":31,\"unit\":\"C\"},\"forecastMintemp\":{\"value\":26,\"unit\":\"C\"},\"forecastMaxrh\":{\"value\":95,\"unit\":\"percent\"},\"forecastMinrh\":{\"value\":70,\"unit\":\"percent\"},\"ForecastIcon\":54,\"PSR\":\"中低\"},{\"forecastDate\":\"20230930\",\"week\":\"星期六\",\"forecastWind\":\"北至東北風4至5級。\",\"forecastWeather\":\"大致多雲，有幾陣驟雨。\",\"forecastMaxtemp\":{\"value\":30,\"unit\":\"C\"},\"forecastMintemp\":{\"value\":26,\"unit\":\"C\"},\"forecastMaxrh\":{\"value\":95,\"unit\":\"percent\"},\"forecastMinrh\":{\"value\":75,\"unit\":\"percent\"},\"ForecastIcon\":62,\"PSR\":\"中低\"}],\"updateTime\":\"2023-09-21T16:30:00+08:00\",\"seaTemp\":{\"place\":\"北角\",\"value\":28,\"unit\":\"C\",\"recordTime\":\"2023-09-21T14:00:00+08:00\"},\"soilTemp\":[{\"place\":\"香港天文台\",\"value\":29.4,\"unit\":\"C\",\"recordTime\":\"2023-09-21T07:00:00+08:00\",\"depth\":{\"unit\":\"metre\",\"value\":0.5}},{\"place\":\"香港天文台\",\"value\":29.1,\"unit\":\"C\",\"recordTime\":\"2023-09-21T07:00:00+08:00\",\"depth\":{\"unit\":\"metre\",\"value\":1}}]}\n",
      "天氣概況:\n",
      "一股微弱東北季候風會在明日抵達廣東沿岸，未來兩三日該區雲量較多及有幾陣驟雨。受高空反氣旋影響，下週初廣東沿岸天色普遍晴朗。此外，一道廣闊低壓槽會在下週為南海中部至菲律賓一帶帶來不穩定天氣。預料另一股東北季候風會在下週後期抵達華南，該區有幾陣驟雨。\n",
      "\n",
      "Date         \t Temp     \t Weather\n",
      "20230922(五) \t 27 ~ 32 \t 短暫時間有陽光，有幾陣驟雨，局部地區有雷暴。\n",
      "20230923(六) \t 27 ~ 32 \t 短暫時間有陽光，有幾陣驟雨。\n",
      "20230924(日) \t 27 ~ 32 \t 短暫時間有陽光，有幾陣驟雨。\n",
      "20230925(一) \t 27 ~ 32 \t 部分時間有陽光。\n",
      "20230926(二) \t 27 ~ 32 \t 部分時間有陽光，局部地區有驟雨。\n",
      "20230927(三) \t 27 ~ 31 \t 短暫時間有陽光，有幾陣驟雨。\n",
      "20230928(四) \t 27 ~ 31 \t 大致多雲，有幾陣驟雨。日間短暫時間有陽光。\n",
      "20230929(五) \t 26 ~ 31 \t 大致多雲，有幾陣驟雨。日間短暫時間有陽光。\n",
      "20230930(六) \t 26 ~ 30 \t 大致多雲，有幾陣驟雨。\n"
     ]
    }
   ],
   "source": [
    "import requests, json\n",
    "\n",
    "## 九天天氣預報(繁體中文)\n",
    "url ='https://data.weather.gov.hk/weatherAPI/opendata/weather.php?dataType=fnd&lang=tc'\n",
    "\n",
    "ans = requests.get(url)\n",
    "ans.raise_for_status()\n",
    "\n",
    "## 把 JSON 數據轉成 Python 字典格式.\n",
    "weatherData = json.loads(ans.text)\n",
    "\n",
    "## Uncomment to see the raw JSON text:\n",
    "print(ans.text)\n",
    "\n",
    "## 自訂顯然數據內容\n",
    "print('天氣概況:')\n",
    "print(weatherData['generalSituation'])\n",
    "print()\n",
    "\n",
    "w = weatherData['weatherForecast']\n",
    "print('{:12} \\t {:8} \\t {}'.format('Date','Temp','Weather'))\n",
    "\n",
    "for i in range(9):\n",
    "    print('{:8}({}) \\t {:02} ~ {:02} \\t {}'.format\n",
    "          (w[i]['forecastDate'],\n",
    "           w[i]['week'][2],\n",
    "           w[i]['forecastMintemp']['value'],\n",
    "           w[i]['forecastMaxtemp']['value'],\n",
    "           w[i]['forecastWeather'])\n",
    "          )\n"
   ]
  },
  {
   "cell_type": "code",
   "execution_count": null,
   "id": "d9f5d927",
   "metadata": {},
   "outputs": [],
   "source": []
  }
 ],
 "metadata": {
  "kernelspec": {
   "display_name": "Python 3 (ipykernel)",
   "language": "python",
   "name": "python3"
  },
  "language_info": {
   "codemirror_mode": {
    "name": "ipython",
    "version": 3
   },
   "file_extension": ".py",
   "mimetype": "text/x-python",
   "name": "python",
   "nbconvert_exporter": "python",
   "pygments_lexer": "ipython3",
   "version": "3.9.13"
  }
 },
 "nbformat": 4,
 "nbformat_minor": 5
}
