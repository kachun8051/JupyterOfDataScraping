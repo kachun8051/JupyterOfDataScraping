{
 "cells": [
  {
   "cell_type": "code",
   "execution_count": null,
   "id": "6784de71",
   "metadata": {},
   "outputs": [],
   "source": [
    "class Pokemon:\n",
    "    def __init__(self, power, level, names):\n",
    "        self.power = power\n",
    "        self.level = level\n",
    "        self.names = names\n",
    "         \n",
    "    def __repr__(self):\n",
    "        return (f'Pokemon({self.power}, '\n",
    "                f'{self.level}, '\n",
    "                f'{self.names})')\n",
    "     \n",
    "    def total_damage(self):\n",
    "        return self.damage(self.power, self.level)\n",
    " \n",
    "    @staticmethod\n",
    "    def damage(power, level):\n",
    "        return (power * level * 2) / 50"
   ]
  },
  {
   "cell_type": "code",
   "execution_count": null,
   "id": "8542708a",
   "metadata": {},
   "outputs": [],
   "source": [
    "charmander = Pokemon(20, 8, \"Charmander\")\n",
    "charmander.total_damage()"
   ]
  },
  {
   "cell_type": "code",
   "execution_count": 18,
   "id": "8aa3f955",
   "metadata": {},
   "outputs": [
    {
     "name": "stdout",
     "output_type": "stream",
     "text": [
      "Local folder (Default): C:\\Downloads\\Images.\n",
      "Start download at: 21:23:34\n",
      "1/4: (sample95.jpg) has downloaded.\n",
      "2/4: (sample96.jpg) has downloaded.\n",
      "3/4: (sample97.jpg) has downloaded.\n",
      "4/4: (sample98.jpg) has downloaded.\n",
      "Complete downloaded at: 21:23:39\n",
      "4/4 has completed which spend 4.617 seconds.\n"
     ]
    }
   ],
   "source": [
    "# try import custom module in C:\\\\PythonLibs\\\\myModule.py\n",
    "import sys\n",
    "# if custom module is in folder: C:\\\\PythonLibs\n",
    "# and myModule.py is in this folder\n",
    "# and a class DownloadImage in myModule.py\n",
    "sys.path.append(\"C:\\\\PythonLibs\")\n",
    "from myModule import DownloadImage\n",
    "# use default local folder\n",
    "url = 'http://goodview.125mb.com/photostyle.html'\n",
    "objDL = DownloadImage(url)\n",
    "objDL.download()"
   ]
  },
  {
   "cell_type": "code",
   "execution_count": 20,
   "id": "eeb3412c",
   "metadata": {},
   "outputs": [
    {
     "name": "stdout",
     "output_type": "stream",
     "text": [
      "Local folder (Default): C:\\Downloads\\Images.\n",
      "Start download at: 21:28:56\n",
      "1/4: (sample95.jpg) has downloaded.\n",
      "2/4: (sample96.jpg) has downloaded.\n",
      "3/4: (sample97.jpg) has downloaded.\n",
      "4/4: (sample98.jpg) has downloaded.\n",
      "Complete downloaded at: 21:28:59\n",
      "4/4 has completed which spend 3.68 seconds.\n"
     ]
    }
   ],
   "source": [
    "import sys\n",
    "# if custom module is the same folder\n",
    "sys.path.append('.')\n",
    "from myModule import DownloadImage\n",
    "# use default local folder\n",
    "url = 'http://goodview.125mb.com/photostyle.html'\n",
    "localfolder = 'C:\\\\Downloads\\Images'\n",
    "objDL2 = DownloadImage(url, localfolder)\n",
    "objDL2.download()"
   ]
  },
  {
   "cell_type": "code",
   "execution_count": 1,
   "id": "0e56112a",
   "metadata": {},
   "outputs": [
    {
     "name": "stdout",
     "output_type": "stream",
     "text": [
      "Local folder (Default): C:\\Downloads\\Images.\n",
      "Start download at: 20:34:26\n",
      "1/4: (sample95.jpg) has downloaded.\n",
      "2/4: (sample96.jpg) has downloaded.\n",
      "3/4: (sample97.jpg) has downloaded.\n",
      "4/4: (sample98.jpg) has downloaded.\n",
      "Complete downloaded at: 20:34:29\n",
      "4/4 has completed which spend 3.588 seconds.\n"
     ]
    }
   ],
   "source": [
    "# note: \n",
    "# 1. custom module myModule.py is placed at: C:\\Python39\\kachunLibs\n",
    "# 2. environment variable -> system variables -> path -> add C:\\Python39\\kachunLibs  \n",
    "from myModule import DownloadImage\n",
    "# use default local folder\n",
    "url = 'http://goodview.125mb.com/photostyle.html'\n",
    "localfolder = 'C:\\\\Downloads\\Images'\n",
    "objDL3 = DownloadImage(url, localfolder)\n",
    "objDL3.download()"
   ]
  },
  {
   "cell_type": "code",
   "execution_count": null,
   "id": "a05dab13",
   "metadata": {},
   "outputs": [],
   "source": []
  }
 ],
 "metadata": {
  "kernelspec": {
   "display_name": "Python 3 (ipykernel)",
   "language": "python",
   "name": "python3"
  },
  "language_info": {
   "codemirror_mode": {
    "name": "ipython",
    "version": 3
   },
   "file_extension": ".py",
   "mimetype": "text/x-python",
   "name": "python",
   "nbconvert_exporter": "python",
   "pygments_lexer": "ipython3",
   "version": "3.9.15"
  }
 },
 "nbformat": 4,
 "nbformat_minor": 5
}
