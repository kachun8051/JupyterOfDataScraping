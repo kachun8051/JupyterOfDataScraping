{
 "cells": [
  {
   "cell_type": "code",
   "execution_count": 1,
   "id": "6784de71",
   "metadata": {},
   "outputs": [],
   "source": [
    "class Pokemon:\n",
    "    def __init__(self, power, level, names):\n",
    "        self.power = power\n",
    "        self.level = level\n",
    "        self.names = names\n",
    "         \n",
    "    def __repr__(self):\n",
    "        return (f'Pokemon({self.power}, '\n",
    "                f'{self.level}, '\n",
    "                f'{self.names})')\n",
    "     \n",
    "    def total_damage(self):\n",
    "        return self.damage(self.power, self.level)\n",
    " \n",
    "    @staticmethod\n",
    "    def damage(power, level):\n",
    "        return (power * level * 2) / 50"
   ]
  },
  {
   "cell_type": "code",
   "execution_count": 2,
   "id": "8542708a",
   "metadata": {},
   "outputs": [
    {
     "data": {
      "text/plain": [
       "6.4"
      ]
     },
     "execution_count": 2,
     "metadata": {},
     "output_type": "execute_result"
    }
   ],
   "source": [
    "charmander = Pokemon(20, 8, \"Charmander\")\n",
    "charmander.total_damage()"
   ]
  },
  {
   "cell_type": "code",
   "execution_count": 11,
   "id": "561cdbc3",
   "metadata": {},
   "outputs": [],
   "source": [
    "import os, requests\n",
    "import shutil\n",
    "from bs4 import BeautifulSoup\n",
    "from datetime import datetime\n",
    "\n",
    "class DownloadImage:\n",
    "    def __init__(self, _url):\n",
    "        self.url = _url\n",
    "        \n",
    "    def getDomain(self):\n",
    "        _path = os.path.dirname(self.url)\n",
    "        return _path\n",
    "    \n",
    "    def getImg(self):\n",
    "        html = requests.get(self.url)\n",
    "        html.encoding = 'UTF-8'\n",
    "        sp = BeautifulSoup(html.text, 'html.parser')\n",
    "        elems = sp.select('img')\n",
    "        # print(type(elems))\n",
    "        return elems\n",
    "    \n",
    "    @staticmethod\n",
    "    def getImgName(_url):\n",
    "        lst1 = _url.split('/')\n",
    "        if len(lst1) == 0:\n",
    "            return ''\n",
    "        else:\n",
    "            return lst1[len(lst1)-1]\n",
    "    \n",
    "    @staticmethod\n",
    "    def checkfolder(_folder):\n",
    "        if not os.path.exists(_folder):\n",
    "            try:\n",
    "                os.makedirs(_folder)\n",
    "                return True\n",
    "            except Exception as e:\n",
    "                print(f\"Exception: {e.message} {e.args}\")\n",
    "                return False\n",
    "    \n",
    "    # download file non-stream\n",
    "    def downloadImg(self, imgPath):    \n",
    "        _imgFile = self.getImgName(imgPath)\n",
    "        _imgPath = 'C:\\\\Temp\\\\img01'\n",
    "        isChecked = self.checkfolder(_imgPath)\n",
    "        if isChecked == False:\n",
    "            return False\n",
    "        _domain = self.getDomain()\n",
    "        _headers = {'Referer': _domain}\n",
    "        ans = requests.get(f'{_domain}/{imgPath}', headers=_headers)\n",
    "        if not ans.status_code == requests.codes.ok:\n",
    "            return False\n",
    "        with open(f'{_imgPath}\\\\{_imgFile}', 'wb') as myFile:\n",
    "            for x in ans.iter_content(10240):\n",
    "                myFile.write(x)\n",
    "        return True\n",
    "    \n",
    "    # download file by stream\n",
    "    def downloadImg2(self, imgPath):    \n",
    "        _imgFile = self.getImgName(imgPath)\n",
    "        _imgLocalPath = 'C:\\\\Temp\\\\img02'\n",
    "        isChecked = self.checkfolder(_imgLocalPath)\n",
    "        if isChecked == False:\n",
    "            return False\n",
    "        _domain = self.getDomain()\n",
    "        _headers = {'Referer': _domain}        \n",
    "        res = requests.get(f'{_domain}/{imgPath}', stream=True, headers=_headers)\n",
    "        if not res.status_code == requests.codes.ok:\n",
    "            return False           \n",
    "        with open(f'{_imgLocalPath}\\\\{_imgFile}', 'wb') as f:\n",
    "            shutil.copyfileobj(res.raw, f)\n",
    "        return True\n",
    "    \n",
    "    def download(self):\n",
    "        lst = self.getImg()\n",
    "        lst1 = []\n",
    "        lst2 = []\n",
    "        startDt  = datetime.now()\n",
    "        print(f'Start download at: {startDt.strftime(\"%H:%M:%S\")}') \n",
    "        for idx, x in enumerate(lst):\n",
    "            val = x.get('src')\n",
    "            fName = self.getImgName(val)\n",
    "            if self.downloadImg2(val) == True:\n",
    "                lst1.append(fName)\n",
    "                print(f\"{idx+1}/{len(lst)}: ({fName}) has downloaded.\")\n",
    "            else:\n",
    "                lst2.append(fName)\n",
    "                print(f\"{idx+1}/{len(lst)}: ({fName}) has NOT downloaded!\")\n",
    "        endDt = datetime.now()\n",
    "        print(f'Complete downloaded at: {endDt.strftime(\"%H:%M:%S\")}')\n",
    "        dur = endDt - startDt        \n",
    "        print(f\"{len(lst1)}/{len(lst)} has completed which spend {round(dur.total_seconds(), 3)} seconds.\")        \n",
    "        "
   ]
  },
  {
   "cell_type": "code",
   "execution_count": 12,
   "id": "471ff506",
   "metadata": {},
   "outputs": [
    {
     "name": "stdout",
     "output_type": "stream",
     "text": [
      "Start download at: 23:57:40\n",
      "1/4: (sample95.jpg) has downloaded.\n",
      "2/4: (sample96.jpg) has downloaded.\n",
      "3/4: (sample97.jpg) has downloaded.\n",
      "4/4: (sample98.jpg) has downloaded.\n",
      "Complete downloaded at: 23:57:45\n",
      "4/4 has completed which spend 4.292955 seconds.\n"
     ]
    }
   ],
   "source": [
    "url = 'http://goodview.125mb.com/photostyle.html'\n",
    "objDL = DownloadImage(url)\n",
    "objDL.download()"
   ]
  },
  {
   "cell_type": "code",
   "execution_count": null,
   "id": "1d8991cd",
   "metadata": {},
   "outputs": [],
   "source": []
  }
 ],
 "metadata": {
  "kernelspec": {
   "display_name": "Python 3 (ipykernel)",
   "language": "python",
   "name": "python3"
  },
  "language_info": {
   "codemirror_mode": {
    "name": "ipython",
    "version": 3
   },
   "file_extension": ".py",
   "mimetype": "text/x-python",
   "name": "python",
   "nbconvert_exporter": "python",
   "pygments_lexer": "ipython3",
   "version": "3.9.15"
  }
 },
 "nbformat": 4,
 "nbformat_minor": 5
}
