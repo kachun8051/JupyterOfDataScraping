{
 "cells": [
  {
   "cell_type": "code",
   "execution_count": 1,
   "id": "5fd3fd7d",
   "metadata": {},
   "outputs": [],
   "source": [
    "class Pokemon:\n",
    "    def __init__(self, power, level, names):\n",
    "        self.power = power\n",
    "        self.level = level\n",
    "        self.names = names\n",
    "         \n",
    "    def __repr__(self):\n",
    "        return (f'Pokemon({self.power}, '\n",
    "                f'{self.level}, '\n",
    "                f'{self.names})')\n",
    "     \n",
    "    def total_damage(self):\n",
    "        return self.damage(self.power, self.level)\n",
    " \n",
    "    @staticmethod\n",
    "    def damage(power, level):\n",
    "        return (power * level * 2) / 50"
   ]
  },
  {
   "cell_type": "code",
   "execution_count": 2,
   "id": "aa69206b",
   "metadata": {},
   "outputs": [
    {
     "data": {
      "text/plain": [
       "6.4"
      ]
     },
     "execution_count": 2,
     "metadata": {},
     "output_type": "execute_result"
    }
   ],
   "source": [
    "charmander = Pokemon(20, 8, \"Charmander\")\n",
    "charmander.total_damage()"
   ]
  },
  {
   "cell_type": "code",
   "execution_count": 18,
   "id": "721898fd",
   "metadata": {},
   "outputs": [],
   "source": [
    "import os, requests\n",
    "from bs4 import BeautifulSoup\n",
    "\n",
    "class DownloadImage:\n",
    "    def __init__(self, _url):\n",
    "        self.url = _url\n",
    "        \n",
    "    def getDomain(self):\n",
    "        _path = os.path.dirname(self.url)\n",
    "        return _path\n",
    "    \n",
    "    def getImg(self):\n",
    "        html = requests.get(self.url)\n",
    "        html.encoding = 'UTF-8'\n",
    "        sp = BeautifulSoup(html.text, 'html.parser')\n",
    "        elems = sp.select('img')\n",
    "        # print(type(elems))\n",
    "        return elems\n",
    "    \n",
    "    @staticmethod\n",
    "    def getImgName(_url):\n",
    "        lst1 = _url.split('/')\n",
    "        if len(lst1) == 0:\n",
    "            return ''\n",
    "        else:\n",
    "            return lst1[len(lst1)-1]\n",
    "    \n",
    "    @staticmethod\n",
    "    def checkfolder(_folder):\n",
    "        if not os.path.exists(_folder):\n",
    "            try:\n",
    "                os.makedirs(_folder)\n",
    "                return True\n",
    "            except Exception as e:\n",
    "                print(f\"Exception: {e.message} {e.args}\")\n",
    "                return False\n",
    "    \n",
    "    def downloadImg(self, imgPath):    \n",
    "        _imgFile = self.getImgName(imgPath)\n",
    "        _imgPath = 'C:\\\\Temp\\\\img01'\n",
    "        isChecked = self.checkfolder(_imgPath)\n",
    "        if isChecked == False:\n",
    "            return False\n",
    "        _domain = self.getDomain()\n",
    "        _headers = {'Referer': _domain}\n",
    "        ans = requests.get(f'{_domain}/{imgPath}', headers=_headers)\n",
    "        if not ans.status_code == requests.codes.ok:\n",
    "            return False\n",
    "        with open(f'{_imgPath}\\\\{_imgFile}', 'wb') as myFile:\n",
    "            for x in ans.iter_content(10240):\n",
    "                myFile.write(x)\n",
    "            return True\n",
    "    \n",
    "    def download(self):\n",
    "        lst = self.getImg()\n",
    "        lst1 = []\n",
    "        lst2 = []\n",
    "        for x in lst:\n",
    "            if self.downloadImg(x.get('src')) == True:\n",
    "                lst1.append(getImgName(x.get('src')))\n",
    "            else:\n",
    "                lst2.append(getImgName(x.get('src')))\n",
    "        print(f\"{len(lst1)}/{len(lst)} has completed.\")"
   ]
  },
  {
   "cell_type": "code",
   "execution_count": 19,
   "id": "252d1e4e",
   "metadata": {},
   "outputs": [
    {
     "ename": "NameError",
     "evalue": "name 'downloadImg' is not defined",
     "output_type": "error",
     "traceback": [
      "\u001b[1;31m---------------------------------------------------------------------------\u001b[0m",
      "\u001b[1;31mNameError\u001b[0m                                 Traceback (most recent call last)",
      "Cell \u001b[1;32mIn[19], line 3\u001b[0m\n\u001b[0;32m      1\u001b[0m url \u001b[38;5;241m=\u001b[39m \u001b[38;5;124m'\u001b[39m\u001b[38;5;124mhttp://goodview.125mb.com/photostyle.html\u001b[39m\u001b[38;5;124m'\u001b[39m\n\u001b[0;32m      2\u001b[0m objDL \u001b[38;5;241m=\u001b[39m DownloadImage(url)\n\u001b[1;32m----> 3\u001b[0m \u001b[43mobjDL\u001b[49m\u001b[38;5;241;43m.\u001b[39;49m\u001b[43mdownload\u001b[49m\u001b[43m(\u001b[49m\u001b[43m)\u001b[49m\n",
      "Cell \u001b[1;32mIn[18], line 57\u001b[0m, in \u001b[0;36mDownloadImage.download\u001b[1;34m(self)\u001b[0m\n\u001b[0;32m     55\u001b[0m lst \u001b[38;5;241m=\u001b[39m \u001b[38;5;28mself\u001b[39m\u001b[38;5;241m.\u001b[39mgetImg()\n\u001b[0;32m     56\u001b[0m \u001b[38;5;28;01mfor\u001b[39;00m x \u001b[38;5;129;01min\u001b[39;00m lst:\n\u001b[1;32m---> 57\u001b[0m     \u001b[43mdownloadImg\u001b[49m(x\u001b[38;5;241m.\u001b[39mget(\u001b[38;5;124m'\u001b[39m\u001b[38;5;124msrc\u001b[39m\u001b[38;5;124m'\u001b[39m))\n",
      "\u001b[1;31mNameError\u001b[0m: name 'downloadImg' is not defined"
     ]
    }
   ],
   "source": [
    "url = 'http://goodview.125mb.com/photostyle.html'\n",
    "objDL = DownloadImage(url)\n",
    "objDL.download()"
   ]
  },
  {
   "cell_type": "code",
   "execution_count": null,
   "id": "76f88fed",
   "metadata": {},
   "outputs": [],
   "source": []
  }
 ],
 "metadata": {
  "kernelspec": {
   "display_name": "Python 3 (ipykernel)",
   "language": "python",
   "name": "python3"
  },
  "language_info": {
   "codemirror_mode": {
    "name": "ipython",
    "version": 3
   },
   "file_extension": ".py",
   "mimetype": "text/x-python",
   "name": "python",
   "nbconvert_exporter": "python",
   "pygments_lexer": "ipython3",
   "version": "3.9.15"
  }
 },
 "nbformat": 4,
 "nbformat_minor": 5
}
