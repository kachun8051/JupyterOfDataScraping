{
 "cells": [
  {
   "cell_type": "code",
   "execution_count": 20,
   "id": "84b78bbc",
   "metadata": {},
   "outputs": [
    {
     "name": "stdout",
     "output_type": "stream",
     "text": [
      "An exception occurred: \r\n",
      "HTTPConnectionPool(host='goodview2.125mb.com', port=80): Max retries exceeded with url: / (Caused by NewConnectionError('<urllib3.connection.HTTPConnection object at 0x00000222A8B1FB20>: Failed to establish a new connection: [Errno 11001] getaddrinfo failed'))\n"
     ]
    }
   ],
   "source": [
    "# sample401\n",
    "\n",
    "import requests\n",
    "try:    \n",
    "    ans = requests.get('http://goodview2.125mb.com')\n",
    "    if ans.status_code == requests.codes.ok:\n",
    "        print(ans.text)\n",
    "    else:\n",
    "        print(ans.status_code)\n",
    "except Exception as Err:\n",
    "    print(f\"An exception occurred: \\r\\n{Err}\")"
   ]
  },
  {
   "cell_type": "code",
   "execution_count": null,
   "id": "7aad5756",
   "metadata": {},
   "outputs": [],
   "source": [
    "# sample 402\n",
    "\n",
    "import requests\n",
    "\n",
    "para = {'name1': 'data1', 'name2': 'data2'} \n",
    "ans = requests.get('https://httpbin.org/get', params=para)\n",
    "\n",
    "if ans.status_code == requests.codes.ok:\n",
    "    print(ans.text)\n",
    "else:\n",
    "    print(ans.status_code)\n"
   ]
  },
  {
   "cell_type": "code",
   "execution_count": null,
   "id": "1735bdab",
   "metadata": {},
   "outputs": [],
   "source": [
    "# sample 403\n",
    "import requests\n",
    "\n",
    "para = {'name1': 'data1', 'name2': 'data2'} \n",
    "ans = requests.post('https://httpbin.org/post', data=para)\n",
    "\n",
    "if ans.status_code == requests.codes.ok:\n",
    "    print(ans.text)\n",
    "else:\n",
    "    print(ans.status_code)\n"
   ]
  },
  {
   "cell_type": "code",
   "execution_count": null,
   "id": "d01e1442",
   "metadata": {},
   "outputs": [],
   "source": [
    "# sample 404\n",
    "import requests\n",
    "\n",
    "ans = requests.get('http://goodview.125mb.com/wz_about.txt')\n",
    "\n",
    "if ans.status_code == requests.codes.ok:\n",
    "    print(ans.text)\n",
    "else:\n",
    "    print(ans.status_code)"
   ]
  },
  {
   "cell_type": "code",
   "execution_count": null,
   "id": "242c599f",
   "metadata": {},
   "outputs": [],
   "source": [
    "# sample 405\n",
    "import requests\n",
    "\n",
    "ans = requests.get('http://goodview.125mb.com/wz_info.txt')\n",
    "\n",
    "try:\n",
    "    ans.raise_for_status()\n",
    "    print(ans.text)\n",
    "    \n",
    "except Exception as Err:\n",
    "    print(f'!!!! WARNING !!!!\\n\\t{Err}')"
   ]
  },
  {
   "cell_type": "code",
   "execution_count": null,
   "id": "4b93e08a",
   "metadata": {},
   "outputs": [],
   "source": [
    "# sample 406\n",
    "import requests\n",
    "\n",
    "files = ['wz_aboutc.txt', 'wz_aboutcu.txt']\n",
    "\n",
    "for x in files:\n",
    "    ans = requests.get('http://goodview.125mb.com/' + x)\n",
    "    print(ans.apparent_encoding)\n",
    "    ans.encoding = ans.apparent_encoding\n",
    "    print('=' * 40)\n",
    "    print(ans.text)"
   ]
  },
  {
   "cell_type": "code",
   "execution_count": 21,
   "id": "92956b60",
   "metadata": {},
   "outputs": [
    {
     "name": "stdout",
     "output_type": "stream",
     "text": [
      "1024\n",
      "161\n"
     ]
    }
   ],
   "source": [
    "# sample 407\n",
    "import requests\n",
    "\n",
    "ans = requests.get('http://goodview.125mb.com/wz_info.txt')\n",
    "\n",
    "with open('data.txt', 'wb') as myFile:\n",
    "    for x in ans.iter_content(1024):\n",
    "        print(myFile.write(x))\n"
   ]
  },
  {
   "cell_type": "code",
   "execution_count": 23,
   "id": "599d0758",
   "metadata": {},
   "outputs": [
    {
     "name": "stdout",
     "output_type": "stream",
     "text": [
      "403\n",
      "113\n"
     ]
    }
   ],
   "source": [
    "# sample 408\n",
    "import requests\n",
    "\n",
    "ans = requests.get('http://goodview.125mb.com/images/sample119c.jpg')\n",
    "print(ans.status_code)\n",
    "\n",
    "with open('demopic.jpg', 'wb') as myFile:\n",
    "    for x in ans.iter_content(10240):\n",
    "        print(myFile.write(x))"
   ]
  },
  {
   "cell_type": "code",
   "execution_count": 24,
   "id": "59440d6b",
   "metadata": {},
   "outputs": [
    {
     "name": "stdout",
     "output_type": "stream",
     "text": [
      "200\n",
      "10240\n",
      "10240\n",
      "10240\n",
      "10240\n",
      "10240\n",
      "10240\n",
      "10240\n",
      "10240\n",
      "10240\n",
      "10087\n"
     ]
    }
   ],
   "source": [
    "# sample 409\n",
    "import requests\n",
    "\n",
    "headers = {'Referer': 'http://goodview.125mb.com/'}\n",
    "ans = requests.get('http://goodview.125mb.com/images/sample119c.jpg', headers=headers)\n",
    "print(ans.status_code)\n",
    "\n",
    "with open('demopic.jpg', 'wb') as myFile:\n",
    "    for x in ans.iter_content(10240):\n",
    "        print(myFile.write(x))\n"
   ]
  },
  {
   "cell_type": "code",
   "execution_count": null,
   "id": "ad354b17",
   "metadata": {},
   "outputs": [],
   "source": []
  }
 ],
 "metadata": {
  "kernelspec": {
   "display_name": "Python 3 (ipykernel)",
   "language": "python",
   "name": "python3"
  },
  "language_info": {
   "codemirror_mode": {
    "name": "ipython",
    "version": 3
   },
   "file_extension": ".py",
   "mimetype": "text/x-python",
   "name": "python",
   "nbconvert_exporter": "python",
   "pygments_lexer": "ipython3",
   "version": "3.9.15"
  }
 },
 "nbformat": 4,
 "nbformat_minor": 5
}
