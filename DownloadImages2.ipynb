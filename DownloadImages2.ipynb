{
 "cells": [
  {
   "cell_type": "code",
   "execution_count": 1,
   "id": "38ac16ef",
   "metadata": {},
   "outputs": [],
   "source": [
    "class Pokemon:\n",
    "    def __init__(self, power, level, names):\n",
    "        self.power = power\n",
    "        self.level = level\n",
    "        self.names = names\n",
    "         \n",
    "    def __repr__(self):\n",
    "        return (f'Pokemon({self.power}, '\n",
    "                f'{self.level}, '\n",
    "                f'{self.names})')\n",
    "     \n",
    "    def total_damage(self):\n",
    "        return self.damage(self.power, self.level)\n",
    " \n",
    "    @staticmethod\n",
    "    def damage(power, level):\n",
    "        return (power * level * 2) / 50"
   ]
  },
  {
   "cell_type": "code",
   "execution_count": 2,
   "id": "e6700a0d",
   "metadata": {},
   "outputs": [
    {
     "data": {
      "text/plain": [
       "6.4"
      ]
     },
     "execution_count": 2,
     "metadata": {},
     "output_type": "execute_result"
    }
   ],
   "source": [
    "charmander = Pokemon(20, 8, \"Charmander\")\n",
    "charmander.total_damage()"
   ]
  },
  {
   "cell_type": "code",
   "execution_count": 22,
   "id": "d12bb4d0",
   "metadata": {},
   "outputs": [],
   "source": [
    "import os, requests\n",
    "from bs4 import BeautifulSoup\n",
    "\n",
    "class DownloadImage:\n",
    "    def __init__(self, _url):\n",
    "        self.url = _url\n",
    "        \n",
    "    def getDomain(self):\n",
    "        _path = os.path.dirname(self.url)\n",
    "        return _path\n",
    "    \n",
    "    def getImg(self):\n",
    "        html = requests.get(self.url)\n",
    "        html.encoding = 'UTF-8'\n",
    "        sp = BeautifulSoup(html.text, 'html.parser')\n",
    "        elems = sp.select('img')\n",
    "        # print(type(elems))\n",
    "        return elems\n",
    "    \n",
    "    @staticmethod\n",
    "    def getImgName(_url):\n",
    "        lst1 = _url.split('/')\n",
    "        if len(lst1) == 0:\n",
    "            return ''\n",
    "        else:\n",
    "            return lst1[len(lst1)-1]\n",
    "    \n",
    "    @staticmethod\n",
    "    def checkfolder(_folder):\n",
    "        if not os.path.exists(_folder):\n",
    "            try:\n",
    "                os.makedirs(_folder)\n",
    "                return True\n",
    "            except Exception as e:\n",
    "                print(f\"Exception: {e.message} {e.args}\")\n",
    "                return False\n",
    "    \n",
    "    def downloadImg(self, imgPath):    \n",
    "        _imgFile = self.getImgName(imgPath)\n",
    "        _imgPath = 'C:\\\\Temp\\\\img01'\n",
    "        isChecked = self.checkfolder(_imgPath)\n",
    "        if isChecked == False:\n",
    "            return False\n",
    "        _domain = self.getDomain()\n",
    "        _headers = {'Referer': _domain}\n",
    "        ans = requests.get(f'{_domain}/{imgPath}', headers=_headers)\n",
    "        if not ans.status_code == requests.codes.ok:\n",
    "            return False\n",
    "        with open(f'{_imgPath}\\\\{_imgFile}', 'wb') as myFile:\n",
    "            for x in ans.iter_content(10240):\n",
    "                myFile.write(x)\n",
    "            return True\n",
    "    \n",
    "    def download(self):\n",
    "        lst = self.getImg()\n",
    "        lst1 = []\n",
    "        lst2 = []\n",
    "        for x in lst:\n",
    "            if self.downloadImg(x.get('src')) == True:\n",
    "                lst1.append(self.getImgName(x.get('src')))\n",
    "            else:\n",
    "                lst2.append(self.getImgName(x.get('src')))\n",
    "        print(f\"{len(lst1)}/{len(lst)} has completed.\")"
   ]
  },
  {
   "cell_type": "code",
   "execution_count": 23,
   "id": "717719b0",
   "metadata": {},
   "outputs": [
    {
     "name": "stdout",
     "output_type": "stream",
     "text": [
      "4/4 has completed.\n"
     ]
    }
   ],
   "source": [
    "url = 'http://goodview.125mb.com/photostyle.html'\n",
    "objDL = DownloadImage(url)\n",
    "objDL.download()"
   ]
  },
  {
   "cell_type": "code",
   "execution_count": null,
   "id": "9dedff41",
   "metadata": {},
   "outputs": [],
   "source": []
  }
 ],
 "metadata": {
  "kernelspec": {
   "display_name": "Python 3 (ipykernel)",
   "language": "python",
   "name": "python3"
  },
  "language_info": {
   "codemirror_mode": {
    "name": "ipython",
    "version": 3
   },
   "file_extension": ".py",
   "mimetype": "text/x-python",
   "name": "python",
   "nbconvert_exporter": "python",
   "pygments_lexer": "ipython3",
   "version": "3.9.15"
  }
 },
 "nbformat": 4,
 "nbformat_minor": 5
}
