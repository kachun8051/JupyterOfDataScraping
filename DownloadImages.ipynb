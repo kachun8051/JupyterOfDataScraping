{
 "cells": [
  {
   "cell_type": "code",
   "execution_count": 1,
   "id": "9509d769",
   "metadata": {},
   "outputs": [
    {
     "name": "stdout",
     "output_type": "stream",
     "text": [
      "Result: 5547\n"
     ]
    }
   ],
   "source": [
    "# step 1: download the html file\n",
    "\n",
    "import requests\n",
    "\n",
    "url = 'http://goodview.125mb.com/photostyle.html'\n",
    "# myHtml = ''\n",
    "myHtmlFile = 'C:\\\\Temp\\\\photostyle.html'\n",
    "try:\n",
    "    ans = requests.get(url)\n",
    "    if ans.status_code == requests.codes.ok:\n",
    "        with open(myHtmlFile, \"w\") as html_file:\n",
    "            n = html_file.write(ans.text)\n",
    "            print(f\"Result: {n}\")\n",
    "    else:\n",
    "        print(ans.status_code)\n",
    "except Exception as Err:\n",
    "    print(f\"An exception occurred: \\r\\n{Err}\")"
   ]
  },
  {
   "cell_type": "code",
   "execution_count": 2,
   "id": "d3fc9cbd",
   "metadata": {},
   "outputs": [
    {
     "name": "stdout",
     "output_type": "stream",
     "text": [
      "['images/sample95.jpg', 'images/sample96.jpg', 'images/sample97.jpg', 'images/sample98.jpg']\n"
     ]
    }
   ],
   "source": [
    "# step 2: parse the html file and extract the image list\n",
    "\n",
    "from bs4 import BeautifulSoup\n",
    "\n",
    "lstOfImg = []\n",
    "lstOfUrl = []\n",
    "with open(myHtmlFile, encoding='utf-8') as html_file:\n",
    "    sp = BeautifulSoup(html_file.read(), 'html.parser')\n",
    "    lstOfImg = sp.find_all('img')\n",
    "    for i in lstOfImg:\n",
    "        lstOfUrl.append(i.get('src'))\n",
    "\n",
    "print(lstOfUrl)"
   ]
  },
  {
   "cell_type": "code",
   "execution_count": 3,
   "id": "005ed58b",
   "metadata": {},
   "outputs": [],
   "source": [
    "# step 3: download images function\n",
    "\n",
    "import requests\n",
    "def downloadImg(imgPath):\n",
    "    lstSplited = imgPath.split('/')\n",
    "    headers = {'Referer': 'http://goodview.125mb.com/'}\n",
    "    ans = requests.get(f'http://goodview.125mb.com/{imgPath}', headers=headers)\n",
    "    print(ans.status_code)\n",
    "    with open(f'C:\\\\Temp\\\\{lstSplited[1]}', 'wb') as myFile:\n",
    "        for x in ans.iter_content(10240):\n",
    "            print(myFile.write(x))"
   ]
  },
  {
   "cell_type": "code",
   "execution_count": 4,
   "id": "b37f8c40",
   "metadata": {},
   "outputs": [
    {
     "name": "stdout",
     "output_type": "stream",
     "text": [
      "200\n",
      "10240\n",
      "10240\n",
      "10240\n",
      "10240\n",
      "10240\n",
      "10240\n",
      "1095\n",
      "200\n",
      "10240\n",
      "10240\n",
      "10240\n",
      "10240\n",
      "10045\n",
      "200\n",
      "10240\n",
      "10240\n",
      "10240\n",
      "10240\n",
      "10240\n",
      "10240\n",
      "10240\n",
      "10240\n",
      "2500\n",
      "200\n",
      "10240\n",
      "10240\n",
      "10240\n",
      "10240\n",
      "10240\n",
      "10240\n",
      "10240\n",
      "10240\n",
      "6019\n"
     ]
    }
   ],
   "source": [
    "# step 4: looping the list to download images\n",
    "\n",
    "for i in lstOfUrl:\n",
    "    downloadImg(i)"
   ]
  },
  {
   "cell_type": "code",
   "execution_count": null,
   "id": "2cf5d5a1",
   "metadata": {},
   "outputs": [],
   "source": []
  }
 ],
 "metadata": {
  "kernelspec": {
   "display_name": "Python 3 (ipykernel)",
   "language": "python",
   "name": "python3"
  },
  "language_info": {
   "codemirror_mode": {
    "name": "ipython",
    "version": 3
   },
   "file_extension": ".py",
   "mimetype": "text/x-python",
   "name": "python",
   "nbconvert_exporter": "python",
   "pygments_lexer": "ipython3",
   "version": "3.9.15"
  }
 },
 "nbformat": 4,
 "nbformat_minor": 5
}
