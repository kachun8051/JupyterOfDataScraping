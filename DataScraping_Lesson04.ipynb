{
 "cells": [
  {
   "cell_type": "code",
   "execution_count": 1,
   "id": "20bb6889",
   "metadata": {},
   "outputs": [
    {
     "name": "stdout",
     "output_type": "stream",
     "text": [
      "group() = 2575-2803\n",
      "\n"
     ]
    }
   ],
   "source": [
    "import re\n",
    "\n",
    "match = re.compile(r'\\d\\d\\d\\d-\\d\\d\\d\\d')\n",
    "ans = match.search('Line1: 2575-2803  Line2: 2575-7933')\n",
    "print('group() =', ans.group())\n",
    "print()"
   ]
  },
  {
   "cell_type": "code",
   "execution_count": 2,
   "id": "ea0fff88",
   "metadata": {},
   "outputs": [
    {
     "name": "stdout",
     "output_type": "stream",
     "text": [
      "['2575-2803', '2575-7933']\n",
      "\n"
     ]
    }
   ],
   "source": [
    "match = re.compile(r'\\d\\d\\d\\d-\\d\\d\\d\\d')\n",
    "ans = match.findall('Line1: 2575-2803  Line2: 2575-7933')\n",
    "print(ans)\n",
    "print()"
   ]
  },
  {
   "cell_type": "code",
   "execution_count": 3,
   "id": "f4825728",
   "metadata": {},
   "outputs": [
    {
     "name": "stdout",
     "output_type": "stream",
     "text": [
      "[('2575', '2803'), ('2575', '7933')]\n",
      "\n"
     ]
    }
   ],
   "source": [
    "match = re.compile(r'(\\d\\d\\d\\d)-(\\d\\d\\d\\d)')\n",
    "ans = match.findall('Line1: 2575-2803  Line2: 2575-7933')\n",
    "print(ans)\n",
    "print()"
   ]
  },
  {
   "cell_type": "code",
   "execution_count": 4,
   "id": "43c739ed",
   "metadata": {},
   "outputs": [
    {
     "name": "stdout",
     "output_type": "stream",
     "text": [
      "['4 Alex', '8 Ada', '5 Amy', '1 John', '2 Danny', '7 Candy', '3 Mandy', '6 Apple', '12 Orange', '313 Cindy']\n",
      "\n"
     ]
    }
   ],
   "source": [
    "\n",
    "match = re.compile(r'\\d+\\s\\w+')\n",
    "ans = match.findall('4 Alex, 8 Ada, 5 Amy, 1 John, 2 Danny, 7 Candy, 3 Mandy, 6 Apple, 12 Orange, 313 Cindy')\n",
    "print(ans)\n",
    "print()\n"
   ]
  },
  {
   "cell_type": "code",
   "execution_count": 7,
   "id": "49f609b8",
   "metadata": {},
   "outputs": [
    {
     "name": "stdout",
     "output_type": "stream",
     "text": [
      "{'4': 'Alex', '8': 'Ada', '5': 'Amy', '1': 'John', '2': 'Danny', '7': 'Candy', '3': 'Mandy', '6': 'Apple', '12': 'Orange', '313': 'Cindy'}\n"
     ]
    }
   ],
   "source": [
    "\n",
    "match = re.compile(r'(\\d+)\\s(\\w+)')\n",
    "ans = match.findall('4 Alex, 8 Ada, 5 Amy, 1 John, 2 Danny, 7 Candy, 3 Mandy, 6 Apple, 12 Orange, 313 Cindy')\n",
    "# print(ans)\n",
    "myDict = dict(ans)\n",
    "print(myDict)\n"
   ]
  },
  {
   "cell_type": "code",
   "execution_count": 6,
   "id": "3747fc6d",
   "metadata": {},
   "outputs": [
    {
     "name": "stdout",
     "output_type": "stream",
     "text": [
      "['Candy', 'Mandy']\n"
     ]
    }
   ],
   "source": [
    "match = re.compile(r'.andy')\n",
    "ans = match.findall('Staff: Ada, Amy, Candy, Cindy, Mandy')\n",
    "print(ans)"
   ]
  },
  {
   "cell_type": "code",
   "execution_count": 24,
   "id": "79d1360b",
   "metadata": {},
   "outputs": [
    {
     "name": "stdout",
     "output_type": "stream",
     "text": [
      "['Candy', 'Mandy', ' andy']\n"
     ]
    }
   ],
   "source": [
    "match = re.compile(r'.andy')\n",
    "ans = match.findall('Staff: Ada, Amy, Candy, Cindy, Mandy, andy')\n",
    "print(ans)"
   ]
  },
  {
   "cell_type": "code",
   "execution_count": 22,
   "id": "2d2bbc41",
   "metadata": {
    "scrolled": true
   },
   "outputs": [
    {
     "name": "stdout",
     "output_type": "stream",
     "text": [
      "Result: ['2555-0313', '2541-0470', '2519-0123', '2893-3112', '2892-1276', '2508-9200', '2712-9175', '3104-1398', '2568-8922', '2914-4266']\n",
      "Duplicated: ['2519-0123', '2508-9200', '2712-9175', '2712-9175']\n",
      "Copied to File\n"
     ]
    }
   ],
   "source": [
    "import re\n",
    "\n",
    "# Read text file\n",
    "with open('C:\\\\Users\\\\Student\\\\Documents\\\\sample428.txt') as checkFile:\n",
    "    Text = checkFile.read()\n",
    "\n",
    "# Phone Regex\n",
    "phoneRe = re.compile(r'((\\d{4})(\\s|-)*(\\d{4}))')\n",
    "\n",
    "Result = []\n",
    "lstDup = []\n",
    "for groups in phoneRe.findall(Text):\n",
    "    phoneNum = '-'.join([groups[1], groups[3]])\n",
    "    if phoneNum not in Result:\n",
    "        Result.append(phoneNum)\n",
    "    else:\n",
    "        lstDup.append(phoneNum)\n",
    "\n",
    "print('Result: ' + str(Result))\n",
    "print('Duplicated: ' + str(lstDup))\n",
    "        \n",
    "# Copy Result to New File\n",
    "if len(Result) > 0:\n",
    "    # convert into set to eliminate duplicated items\n",
    "    # Result = set(Result)\n",
    "    with open('C:\\\\Users\\\\Student\\\\Documents\\\\Result.txt','w') as resultFile:\n",
    "        resultFile.write('\\n'.join(Result))\n",
    "    print('Copied to File')\n",
    "else:\n",
    "    print('No phone found.')"
   ]
  },
  {
   "cell_type": "code",
   "execution_count": 7,
   "id": "a951f7b7",
   "metadata": {},
   "outputs": [
    {
     "name": "stdout",
     "output_type": "stream",
     "text": [
      "Defaulting to user installation because normal site-packages is not writeable\n",
      "Requirement already satisfied: beautifulsoup4 in c:\\programdata\\anaconda3\\lib\\site-packages (4.11.1)\n",
      "Requirement already satisfied: requests in c:\\programdata\\anaconda3\\lib\\site-packages (2.27.1)\n",
      "Requirement already satisfied: soupsieve>1.2 in c:\\programdata\\anaconda3\\lib\\site-packages (from beautifulsoup4) (2.3.1)\n",
      "Requirement already satisfied: urllib3<1.27,>=1.21.1 in c:\\programdata\\anaconda3\\lib\\site-packages (from requests) (1.26.9)\n",
      "Requirement already satisfied: certifi>=2017.4.17 in c:\\programdata\\anaconda3\\lib\\site-packages (from requests) (2021.10.8)\n",
      "Requirement already satisfied: charset-normalizer~=2.0.0 in c:\\programdata\\anaconda3\\lib\\site-packages (from requests) (2.0.4)\n",
      "Requirement already satisfied: idna<4,>=2.5 in c:\\programdata\\anaconda3\\lib\\site-packages (from requests) (3.3)\n",
      "Defaulting to user installation because normal site-packages is not writeable\n",
      "Collecting beautifulsoup\n",
      "  Downloading BeautifulSoup-3.2.2.tar.gz (32 kB)\n",
      "  Preparing metadata (setup.py): started\n",
      "  Preparing metadata (setup.py): finished with status 'error'\n"
     ]
    },
    {
     "name": "stderr",
     "output_type": "stream",
     "text": [
      "  error: subprocess-exited-with-error\n",
      "  \n",
      "  python setup.py egg_info did not run successfully.\n",
      "  exit code: 1\n",
      "  \n",
      "  [7 lines of output]\n",
      "  Traceback (most recent call last):\n",
      "    File \"<string>\", line 2, in <module>\n",
      "    File \"<pip-setuptools-caller>\", line 34, in <module>\n",
      "    File \"C:\\Users\\kachun\\AppData\\Local\\Temp\\pip-install-ptta029c\\beautifulsoup_4ce203e269074e0ea6ec463966ea3787\\setup.py\", line 3\n",
      "      \"You're trying to run a very old release of Beautiful Soup under Python 3. This will not work.\"<>\"Please use Beautiful Soup 4, available through the pip package 'beautifulsoup4'.\"\n",
      "                                                                                                     ^\n",
      "  SyntaxError: invalid syntax\n",
      "  [end of output]\n",
      "  \n",
      "  note: This error originates from a subprocess, and is likely not a problem with pip.\n",
      "error: metadata-generation-failed\n",
      "\n",
      "Encountered error while generating package metadata.\n",
      "\n",
      "See above for output.\n",
      "\n",
      "note: This is an issue with the package mentioned above, not pip.\n",
      "hint: See above for details.\n"
     ]
    }
   ],
   "source": [
    "!pip3 install beautifulsoup4 requests\n",
    "!pip3 install beautifulsoup"
   ]
  },
  {
   "cell_type": "code",
   "execution_count": 10,
   "id": "2da1414b",
   "metadata": {},
   "outputs": [
    {
     "name": "stdout",
     "output_type": "stream",
     "text": [
      "Defaulting to user installation because normal site-packages is not writeable\n",
      "Requirement already satisfied: lxml in c:\\programdata\\anaconda3\\lib\\site-packages (4.8.0)\n"
     ]
    }
   ],
   "source": [
    "!pip3 install lxml"
   ]
  },
  {
   "cell_type": "code",
   "execution_count": 31,
   "id": "4a82c0bd",
   "metadata": {},
   "outputs": [
    {
     "name": "stdout",
     "output_type": "stream",
     "text": [
      "<class 'bs4.BeautifulSoup'>\n",
      "<img alt=\"\" src=\"images/sample113a.jpg\"/>\n",
      "<blockquote class=\"remark\">We have been working towards these goals for the last <strong>19 years</strong>. We shall\r\n",
      "    continue to achieve further. Zaxime magnam ad assumenda saepe, exercitationem doloremque deserunt cumque excepturi\r\n",
      "    quam commodi odit, repellat molestiae laudantium quae libero tenetur voluptatem delectus ut suscipit. Nulla impedit\r\n",
      "    deserunt iste consectetur. Consectetur qui autem iure quibusdam maxime ab omnis et doloremque, asperiores eligendi\r\n",
      "    ipsam dignissimos.</blockquote>\n"
     ]
    }
   ],
   "source": [
    "import requests\n",
    "from bs4 import BeautifulSoup\n",
    "\n",
    "url = 'http://goodview.125mb.com'\n",
    "html = requests.get(url)\n",
    "html.encoding = 'UTF-8'\n",
    "\n",
    "#bs = BeautifulSoup(html.text, 'html.parser')\n",
    "bs = BeautifulSoup(html.text, 'lxml')\n",
    "\n",
    "print(type(bs))\n",
    "\n",
    "# print(bs.h1)\n",
    "# print(bs.p)\n",
    "# print(bs.strong)\n",
    "# print(bs.strong.text)\n",
    "\n",
    "print(bs.img)\n",
    "print(bs.blockquote)\n"
   ]
  },
  {
   "cell_type": "code",
   "execution_count": 1,
   "id": "3c27734c",
   "metadata": {},
   "outputs": [
    {
     "ename": "FileNotFoundError",
     "evalue": "[Errno 2] No such file or directory: 'C:\\\\Users\\\\Student\\\\Documents\\\\demopage2.html'",
     "output_type": "error",
     "traceback": [
      "\u001b[1;31m---------------------------------------------------------------------------\u001b[0m",
      "\u001b[1;31mFileNotFoundError\u001b[0m                         Traceback (most recent call last)",
      "Cell \u001b[1;32mIn[1], line 3\u001b[0m\n\u001b[0;32m      1\u001b[0m \u001b[38;5;28;01mfrom\u001b[39;00m \u001b[38;5;21;01mbs4\u001b[39;00m \u001b[38;5;28;01mimport\u001b[39;00m BeautifulSoup\n\u001b[1;32m----> 3\u001b[0m \u001b[38;5;28;01mwith\u001b[39;00m \u001b[38;5;28;43mopen\u001b[39;49m\u001b[43m(\u001b[49m\u001b[38;5;124;43m'\u001b[39;49m\u001b[38;5;124;43mC:\u001b[39;49m\u001b[38;5;130;43;01m\\\\\u001b[39;49;00m\u001b[38;5;124;43mUsers\u001b[39;49m\u001b[38;5;130;43;01m\\\\\u001b[39;49;00m\u001b[38;5;124;43mStudent\u001b[39;49m\u001b[38;5;130;43;01m\\\\\u001b[39;49;00m\u001b[38;5;124;43mDocuments\u001b[39;49m\u001b[38;5;130;43;01m\\\\\u001b[39;49;00m\u001b[38;5;124;43mdemopage2.html\u001b[39;49m\u001b[38;5;124;43m'\u001b[39;49m\u001b[43m,\u001b[49m\u001b[43mencoding\u001b[49m\u001b[38;5;241;43m=\u001b[39;49m\u001b[38;5;124;43m\"\u001b[39;49m\u001b[38;5;124;43mutf-8\u001b[39;49m\u001b[38;5;124;43m\"\u001b[39;49m\u001b[43m)\u001b[49m \u001b[38;5;28;01mas\u001b[39;00m html:\n\u001b[0;32m      4\u001b[0m     sp \u001b[38;5;241m=\u001b[39m BeautifulSoup(html\u001b[38;5;241m.\u001b[39mread(), \u001b[38;5;124m'\u001b[39m\u001b[38;5;124mhtml.parser\u001b[39m\u001b[38;5;124m'\u001b[39m)\n\u001b[0;32m      6\u001b[0m \u001b[38;5;66;03m# print(sp.find('p'))\u001b[39;00m\n\u001b[0;32m      7\u001b[0m \u001b[38;5;66;03m# print(sp.find_all('p'))\u001b[39;00m\n\u001b[0;32m      8\u001b[0m \u001b[38;5;66;03m# print()\u001b[39;00m\n",
      "File \u001b[1;32m~\\AppData\\Local\\Programs\\Python\\Python310\\lib\\site-packages\\IPython\\core\\interactiveshell.py:282\u001b[0m, in \u001b[0;36m_modified_open\u001b[1;34m(file, *args, **kwargs)\u001b[0m\n\u001b[0;32m    275\u001b[0m \u001b[38;5;28;01mif\u001b[39;00m file \u001b[38;5;129;01min\u001b[39;00m {\u001b[38;5;241m0\u001b[39m, \u001b[38;5;241m1\u001b[39m, \u001b[38;5;241m2\u001b[39m}:\n\u001b[0;32m    276\u001b[0m     \u001b[38;5;28;01mraise\u001b[39;00m \u001b[38;5;167;01mValueError\u001b[39;00m(\n\u001b[0;32m    277\u001b[0m         \u001b[38;5;124mf\u001b[39m\u001b[38;5;124m\"\u001b[39m\u001b[38;5;124mIPython won\u001b[39m\u001b[38;5;124m'\u001b[39m\u001b[38;5;124mt let you open fd=\u001b[39m\u001b[38;5;132;01m{\u001b[39;00mfile\u001b[38;5;132;01m}\u001b[39;00m\u001b[38;5;124m by default \u001b[39m\u001b[38;5;124m\"\u001b[39m\n\u001b[0;32m    278\u001b[0m         \u001b[38;5;124m\"\u001b[39m\u001b[38;5;124mas it is likely to crash IPython. If you know what you are doing, \u001b[39m\u001b[38;5;124m\"\u001b[39m\n\u001b[0;32m    279\u001b[0m         \u001b[38;5;124m\"\u001b[39m\u001b[38;5;124myou can use builtins\u001b[39m\u001b[38;5;124m'\u001b[39m\u001b[38;5;124m open.\u001b[39m\u001b[38;5;124m\"\u001b[39m\n\u001b[0;32m    280\u001b[0m     )\n\u001b[1;32m--> 282\u001b[0m \u001b[38;5;28;01mreturn\u001b[39;00m io_open(file, \u001b[38;5;241m*\u001b[39margs, \u001b[38;5;241m*\u001b[39m\u001b[38;5;241m*\u001b[39mkwargs)\n",
      "\u001b[1;31mFileNotFoundError\u001b[0m: [Errno 2] No such file or directory: 'C:\\\\Users\\\\Student\\\\Documents\\\\demopage2.html'"
     ]
    }
   ],
   "source": [
    "from bs4 import BeautifulSoup\n",
    "\n",
    "with open('C:\\\\Users\\\\Student\\\\Documents\\\\demopage2.html',encoding=\"utf-8\") as html:\n",
    "    sp = BeautifulSoup(html.read(), 'html.parser')\n",
    "\n",
    "# print(sp.find('p'))\n",
    "# print(sp.find_all('p'))\n",
    "# print()\n",
    "\n",
    "print(sp.find('p', id='lemon', class_='yellow'))\n",
    "print(sp.find('p', {'id':'banana', 'class':'yellow'}))"
   ]
  },
  {
   "cell_type": "code",
   "execution_count": null,
   "id": "e7b97fa7",
   "metadata": {},
   "outputs": [],
   "source": [
    "from bs4 import BeautifulSoup\n",
    "\n",
    "with open('demopage.html',encoding=\"utf-8\") as html:\n",
    "    sp = BeautifulSoup(html.read(), 'html.parser')\n",
    "\n",
    "elems = sp.select('#title')\n",
    "if len(elems) == 0:\n",
    "    print('No such element')\n",
    "else:\n",
    "    print(elems)\n",
    "    print(elems[0]) \n",
    "    print(elems[0].name)\n",
    "    print(elems[0].attrs)\n",
    "    print(elems[0].getText())\n",
    "    print('~' * 40)\n",
    "\n",
    "elems = sp.select('strong')\n",
    "print(elems)\n",
    "print(type(elems))\n",
    "print(len(elems))\n",
    "\n",
    "print(type(elems[0]))\n",
    "print(elems[0]) \n",
    "print(elems[0].name) \n",
    "print(elems[0].attrs)\n",
    "print(elems[0].getText()) \n",
    "\n",
    "print(elems[1])\n",
    "print(elems[1].getText())\n",
    "print(elems[1].get('class'))\n",
    "\n",
    "print(elems[2])\n",
    "print(elems[2].getText())\n",
    "print('~' * 40)\n",
    "\n",
    "elems = sp.select('.remark')[0]\n",
    "print(elems)\n",
    "print(elems.get('id'))\n",
    "print(elems.get('class'))\n",
    "print(elems.attrs)\n"
   ]
  },
  {
   "cell_type": "code",
   "execution_count": 1,
   "id": "7000a411",
   "metadata": {},
   "outputs": [
    {
     "ename": "FileNotFoundError",
     "evalue": "[Errno 2] No such file or directory: 'C:\\\\Users\\\\Student\\\\Documents\\\\demopage.html'",
     "output_type": "error",
     "traceback": [
      "\u001b[1;31m---------------------------------------------------------------------------\u001b[0m",
      "\u001b[1;31mFileNotFoundError\u001b[0m                         Traceback (most recent call last)",
      "Cell \u001b[1;32mIn[1], line 3\u001b[0m\n\u001b[0;32m      1\u001b[0m \u001b[38;5;28;01mfrom\u001b[39;00m \u001b[38;5;21;01mbs4\u001b[39;00m \u001b[38;5;28;01mimport\u001b[39;00m BeautifulSoup\n\u001b[1;32m----> 3\u001b[0m \u001b[38;5;28;01mwith\u001b[39;00m \u001b[38;5;28;43mopen\u001b[39;49m\u001b[43m(\u001b[49m\u001b[38;5;124;43m'\u001b[39;49m\u001b[38;5;124;43mC:\u001b[39;49m\u001b[38;5;130;43;01m\\\\\u001b[39;49;00m\u001b[38;5;124;43mUsers\u001b[39;49m\u001b[38;5;130;43;01m\\\\\u001b[39;49;00m\u001b[38;5;124;43mStudent\u001b[39;49m\u001b[38;5;130;43;01m\\\\\u001b[39;49;00m\u001b[38;5;124;43mDocuments\u001b[39;49m\u001b[38;5;130;43;01m\\\\\u001b[39;49;00m\u001b[38;5;124;43mdemopage.html\u001b[39;49m\u001b[38;5;124;43m'\u001b[39;49m\u001b[43m,\u001b[49m\u001b[43mencoding\u001b[49m\u001b[38;5;241;43m=\u001b[39;49m\u001b[38;5;124;43m\"\u001b[39;49m\u001b[38;5;124;43mutf-8\u001b[39;49m\u001b[38;5;124;43m\"\u001b[39;49m\u001b[43m)\u001b[49m \u001b[38;5;28;01mas\u001b[39;00m html:\n\u001b[0;32m      4\u001b[0m     sp \u001b[38;5;241m=\u001b[39m BeautifulSoup(html\u001b[38;5;241m.\u001b[39mread(), \u001b[38;5;124m'\u001b[39m\u001b[38;5;124mhtml.parser\u001b[39m\u001b[38;5;124m'\u001b[39m)\n\u001b[0;32m      6\u001b[0m elems \u001b[38;5;241m=\u001b[39m sp\u001b[38;5;241m.\u001b[39mselect(\u001b[38;5;124m'\u001b[39m\u001b[38;5;124m#strong\u001b[39m\u001b[38;5;124m'\u001b[39m)\n",
      "File \u001b[1;32m~\\anaconda3\\lib\\site-packages\\IPython\\core\\interactiveshell.py:282\u001b[0m, in \u001b[0;36m_modified_open\u001b[1;34m(file, *args, **kwargs)\u001b[0m\n\u001b[0;32m    275\u001b[0m \u001b[38;5;28;01mif\u001b[39;00m file \u001b[38;5;129;01min\u001b[39;00m {\u001b[38;5;241m0\u001b[39m, \u001b[38;5;241m1\u001b[39m, \u001b[38;5;241m2\u001b[39m}:\n\u001b[0;32m    276\u001b[0m     \u001b[38;5;28;01mraise\u001b[39;00m \u001b[38;5;167;01mValueError\u001b[39;00m(\n\u001b[0;32m    277\u001b[0m         \u001b[38;5;124mf\u001b[39m\u001b[38;5;124m\"\u001b[39m\u001b[38;5;124mIPython won\u001b[39m\u001b[38;5;124m'\u001b[39m\u001b[38;5;124mt let you open fd=\u001b[39m\u001b[38;5;132;01m{\u001b[39;00mfile\u001b[38;5;132;01m}\u001b[39;00m\u001b[38;5;124m by default \u001b[39m\u001b[38;5;124m\"\u001b[39m\n\u001b[0;32m    278\u001b[0m         \u001b[38;5;124m\"\u001b[39m\u001b[38;5;124mas it is likely to crash IPython. If you know what you are doing, \u001b[39m\u001b[38;5;124m\"\u001b[39m\n\u001b[0;32m    279\u001b[0m         \u001b[38;5;124m\"\u001b[39m\u001b[38;5;124myou can use builtins\u001b[39m\u001b[38;5;124m'\u001b[39m\u001b[38;5;124m open.\u001b[39m\u001b[38;5;124m\"\u001b[39m\n\u001b[0;32m    280\u001b[0m     )\n\u001b[1;32m--> 282\u001b[0m \u001b[38;5;28;01mreturn\u001b[39;00m io_open(file, \u001b[38;5;241m*\u001b[39margs, \u001b[38;5;241m*\u001b[39m\u001b[38;5;241m*\u001b[39mkwargs)\n",
      "\u001b[1;31mFileNotFoundError\u001b[0m: [Errno 2] No such file or directory: 'C:\\\\Users\\\\Student\\\\Documents\\\\demopage.html'"
     ]
    }
   ],
   "source": [
    "from bs4 import BeautifulSoup\n",
    "\n",
    "with open('C:\\\\Users\\\\Student\\\\Documents\\\\demopage.html',encoding=\"utf-8\") as html:\n",
    "    sp = BeautifulSoup(html.read(), 'html.parser')\n",
    "\n",
    "elems = sp.select('#strong')\n",
    "if len(elems) == 0:\n",
    "    print('No such element')\n",
    "else:\n",
    "    for elem in elems:\n",
    "        print(elem)\n",
    "        #print(elem[0]) \n",
    "        print(elem.name)\n",
    "        print(elem.attrs)\n",
    "        print(elem.getText())\n",
    "        print('~' * 40)\n",
    "\n",
    "# elems = sp.select('strong')\n",
    "# print(elems)\n",
    "# print(type(elems))\n",
    "# print(len(elems))\n",
    "\n",
    "# print(type(elems[0]))\n",
    "# print(elems[0]) \n",
    "# print(elems[0].name) \n",
    "# print(elems[0].attrs)\n",
    "# print(elems[0].getText()) \n",
    "\n",
    "# print(elems[1])\n",
    "# print(elems[1].getText())\n",
    "# print(elems[1].get('class'))\n",
    "\n",
    "# print(elems[2])\n",
    "# print(elems[2].getText())\n",
    "# print('~' * 40)\n",
    "\n",
    "# elems = sp.select('.remark')[0]\n",
    "# print(elems)\n",
    "# print(elems.get('id'))\n",
    "# print(elems.get('class'))\n",
    "# print(elems.attrs)\n"
   ]
  },
  {
   "cell_type": "code",
   "execution_count": 3,
   "id": "4c218692",
   "metadata": {},
   "outputs": [
    {
     "name": "stdout",
     "output_type": "stream",
     "text": [
      "Domain: http://goodview.125mb.com\n"
     ]
    }
   ],
   "source": [
    "import os\n",
    "\n",
    "myUrl = 'http://goodview.125mb.com/photostyle.html'\n",
    "\n",
    "def getDomain(_url):\n",
    "    # url = 'http://goodview.125mb.com/photostyle.html'\n",
    "    _path = os.path.dirname(_url)\n",
    "    return _path\n",
    "\n",
    "path = getDomain(myUrl)\n",
    "print(f'Domain: {path}')"
   ]
  },
  {
   "cell_type": "code",
   "execution_count": 4,
   "id": "708fe8f7",
   "metadata": {},
   "outputs": [
    {
     "name": "stdout",
     "output_type": "stream",
     "text": [
      "Length: 4\n"
     ]
    }
   ],
   "source": [
    "import requests\n",
    "from bs4 import BeautifulSoup\n",
    "\n",
    "def getImg(_url):\n",
    "    html = requests.get(_url)\n",
    "    html.encoding = 'UTF-8'\n",
    "    sp = BeautifulSoup(html.text, 'html.parser')\n",
    "    elems = sp.select('img')\n",
    "    # print(type(elems))\n",
    "    return elems\n",
    "\n",
    "lstElem = getImg(myUrl)\n",
    "print(f'Length: {len(lstElem)}')"
   ]
  },
  {
   "cell_type": "code",
   "execution_count": 5,
   "id": "51bb8587",
   "metadata": {},
   "outputs": [],
   "source": [
    "def getImgName(_url):\n",
    "    lst1 = _url.split('/')\n",
    "    if len(lst1) == 0:\n",
    "        return lst1[0]\n",
    "    else:\n",
    "        return lst1[len(lst1)-1]"
   ]
  },
  {
   "cell_type": "code",
   "execution_count": 21,
   "id": "d7434a56",
   "metadata": {},
   "outputs": [],
   "source": [
    "import os\n",
    "def checkfolder(_folder):\n",
    "    if not os.path.exists(_folder):\n",
    "        try:\n",
    "            os.makedirs(_folder)\n",
    "            return True\n",
    "        except:\n",
    "            print(\"An exception occurred\")\n",
    "            return False\n",
    "           "
   ]
  },
  {
   "cell_type": "code",
   "execution_count": 22,
   "id": "3b547c30",
   "metadata": {},
   "outputs": [],
   "source": [
    "import requests, os\n",
    "\n",
    "def downloadImg(url, imgPath):\n",
    "    _domain = getDomain(url)\n",
    "    _headers = {'Referer': _domain}    \n",
    "    _imgFile = getImgName(imgPath)\n",
    "    _imgLocalPath = 'C:\\\\Temp\\\\img01'\n",
    "    isChecked = checkfolder(_imgLocalPath)\n",
    "    if isChecked == True:\n",
    "        res = requests.get(f'{_domain}/{imgPath}', headers=_headers)\n",
    "        with open(f'{_imgLocalPath}\\\\{_imgFile}', 'wb') as myFile:\n",
    "            for x in res.iter_content(10240):\n",
    "                print(myFile.write(x))"
   ]
  },
  {
   "cell_type": "code",
   "execution_count": 26,
   "id": "f7ebe4a3",
   "metadata": {},
   "outputs": [],
   "source": [
    "import shutil\n",
    "import requests\n",
    "\n",
    "def downloadImg2(url, imgPath):\n",
    "    _domain = getDomain(url)\n",
    "    _headers = {'Referer': _domain}\n",
    "    _imgFile = getImgName(imgPath)\n",
    "    _imgLocalPath = 'C:\\\\Temp\\\\img02'\n",
    "    checkfolder(_imgLocalPath)\n",
    "    res = requests.get(f'{_domain}/{imgPath}', stream=True, headers=_headers)\n",
    "    if res.status_code == requests.codes.ok:           \n",
    "        with open(f'{_imgLocalPath}\\\\{_imgFile}', 'wb') as f:\n",
    "            shutil.copyfileobj(res.raw, f)\n"
   ]
  },
  {
   "cell_type": "code",
   "execution_count": 25,
   "id": "1c18a8a8",
   "metadata": {},
   "outputs": [
    {
     "name": "stdout",
     "output_type": "stream",
     "text": [
      "images/sample95.jpg\n",
      "10240\n",
      "10240\n",
      "10240\n",
      "10240\n",
      "10240\n",
      "10240\n",
      "1095\n",
      "images/sample96.jpg\n",
      "10240\n",
      "10240\n",
      "10240\n",
      "10240\n",
      "10045\n",
      "images/sample97.jpg\n",
      "10240\n",
      "10240\n",
      "10240\n",
      "10240\n",
      "10240\n",
      "10240\n",
      "10240\n",
      "10240\n",
      "2500\n",
      "images/sample98.jpg\n",
      "10240\n",
      "10240\n",
      "10240\n",
      "10240\n",
      "10240\n",
      "10240\n",
      "10240\n",
      "10240\n",
      "6019\n"
     ]
    }
   ],
   "source": [
    "# use the functions\n",
    "getImg(myUrl)\n",
    "for x in lstElem:\n",
    "    print(x.get('src'))\n",
    "    downloadImg(myUrl, x.get('src'))\n"
   ]
  },
  {
   "cell_type": "code",
   "execution_count": null,
   "id": "af63fded",
   "metadata": {},
   "outputs": [],
   "source": []
  }
 ],
 "metadata": {
  "kernelspec": {
   "display_name": "Python 3 (ipykernel)",
   "language": "python",
   "name": "python3"
  },
  "language_info": {
   "codemirror_mode": {
    "name": "ipython",
    "version": 3
   },
   "file_extension": ".py",
   "mimetype": "text/x-python",
   "name": "python",
   "nbconvert_exporter": "python",
   "pygments_lexer": "ipython3",
   "version": "3.9.15"
  }
 },
 "nbformat": 4,
 "nbformat_minor": 5
}
